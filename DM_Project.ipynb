{
  "nbformat": 4,
  "nbformat_minor": 0,
  "metadata": {
    "colab": {
      "name": "Copy of DM_Project.ipynb",
      "provenance": [],
      "collapsed_sections": []
    },
    "kernelspec": {
      "display_name": "Python 3",
      "language": "python",
      "name": "python3"
    },
    "language_info": {
      "codemirror_mode": {
        "name": "ipython",
        "version": 3
      },
      "file_extension": ".py",
      "mimetype": "text/x-python",
      "name": "python",
      "nbconvert_exporter": "python",
      "pygments_lexer": "ipython3",
      "version": "3.7.3"
    }
  },
  "cells": [
    {
      "cell_type": "markdown",
      "metadata": {
        "colab_type": "text",
        "id": "8QnuUmkOHzzC"
      },
      "source": [
        "## 1) PACKAGES AND LIBRARIES INSTALLATION \n",
        "(TO DO: explain why we need each package)"
      ]
    },
    {
      "cell_type": "code",
      "metadata": {
        "colab_type": "code",
        "id": "yG13UCwNclDm",
        "colab": {}
      },
      "source": [
        "!pip install 'plotnine[all]'\n",
        "!pip install wordcloud\n",
        "!pip install spacy\n",
        "!python -m spacy download en\n",
        "!pip install -U textblob\n",
        "!python -m textblob.download_corpora\n",
        "!pip install vaderSentiment"
      ],
      "execution_count": 0,
      "outputs": []
    },
    {
      "cell_type": "code",
      "metadata": {
        "colab_type": "code",
        "id": "g6sPoD9R6BA-",
        "colab": {}
      },
      "source": [
        "import pandas as pd\n",
        "import numpy as np\n",
        "import matplotlib.pyplot as plt\n",
        "import seaborn as sns\n",
        "import re\n",
        "import itertools\n",
        "import nltk\n",
        "\n",
        "from wordcloud import WordCloud,STOPWORDS\n",
        "from plotnine import *\n",
        "from spacy.lang.en import English\n",
        "from textblob import TextBlob\n",
        "from vaderSentiment.vaderSentiment import SentimentIntensityAnalyzer\n",
        "from nltk import ngrams\n",
        "from nltk.stem import WordNetLemmatizer\n",
        "from sklearn.model_selection import train_test_split\n",
        "from sklearn.metrics import confusion_matrix\n",
        "from sklearn.utils.multiclass import unique_labels\n",
        "from sklearn.feature_extraction.text import CountVectorizer\n",
        "from sklearn.metrics import accuracy_score\n",
        "from sklearn.linear_model import LogisticRegression\n",
        "from sklearn.neighbors import KNeighborsClassifier\n",
        "from sklearn.tree import DecisionTreeClassifier\n",
        "from sklearn.ensemble import RandomForestClassifier"
      ],
      "execution_count": 0,
      "outputs": []
    },
    {
      "cell_type": "markdown",
      "metadata": {
        "colab_type": "text",
        "id": "wW0wu1W-IK9R"
      },
      "source": [
        "## 2) DATABASE\n",
        "`tweets` is our **main dataset**, the other ones are not used by the moment."
      ]
    },
    {
      "cell_type": "code",
      "metadata": {
        "colab_type": "code",
        "id": "bfbTTsDrwKqD",
        "colab": {}
      },
      "source": [
        "# The dataset from Kaggle:\n",
        "tweets = pd.read_csv(\"https://raw.githubusercontent.com/SarahBuechner/DMML2019_Team_Google/master/Database/Tweets.csv\")\n",
        "AAL = pd.read_csv(\"https://raw.githubusercontent.com/SarahBuechner/DMML2019_Team_Google/master/Database/AAL.csv\")\n",
        "DAL = pd.read_csv(\"https://raw.githubusercontent.com/SarahBuechner/DMML2019_Team_Google/master/Database/DAL.csv\")\n",
        "LUV = pd.read_csv(\"https://raw.githubusercontent.com/SarahBuechner/DMML2019_Team_Google/master/Database/LUV.csv\")\n",
        "UAL = pd.read_csv(\"https://raw.githubusercontent.com/SarahBuechner/DMML2019_Team_Google/master/Database/UAL.csv\")"
      ],
      "execution_count": 0,
      "outputs": []
    },
    {
      "cell_type": "code",
      "metadata": {
        "colab_type": "code",
        "id": "SXw8yjGa5Zpd",
        "outputId": "86f1a27e-9510-4946-cf21-158fc4091373",
        "colab": {
          "base_uri": "https://localhost:8080/",
          "height": 368
        }
      },
      "source": [
        "# Dataframe tweets shape\n",
        "print(tweets.shape)\n",
        "# Data types\n",
        "print(tweets.dtypes)"
      ],
      "execution_count": 4,
      "outputs": [
        {
          "output_type": "stream",
          "text": [
            "(12265, 18)\n",
            "Unnamed: 0                        int64\n",
            "tweet_id                          int64\n",
            "airline_sentiment                object\n",
            "airline_sentiment_confidence    float64\n",
            "negativereason                   object\n",
            "negativereason_confidence       float64\n",
            "airline                          object\n",
            "airline_sentiment_gold           object\n",
            "name                             object\n",
            "negativereason_gold              object\n",
            "retweet_count                     int64\n",
            "text                             object\n",
            "tweet_coord                      object\n",
            "tweet_created                    object\n",
            "tweet_location                   object\n",
            "user_timezone                    object\n",
            "Followers                         int64\n",
            "Verified                           bool\n",
            "dtype: object\n"
          ],
          "name": "stdout"
        }
      ]
    },
    {
      "cell_type": "markdown",
      "metadata": {
        "colab_type": "text",
        "id": "rl6vo90xIrOC"
      },
      "source": [
        "## 3) DATA CLEANING\n",
        "*May be we can include here the data cleaning from Machine Learning section*"
      ]
    },
    {
      "cell_type": "code",
      "metadata": {
        "colab_type": "code",
        "id": "o6IQhbaED2PD",
        "colab": {}
      },
      "source": [
        "# Drop the columns we don't use and converting tweet_created to datetime\n",
        "try:\n",
        "  tweets = tweets.drop(columns=['airline_sentiment_gold', 'negativereason_gold', 'tweet_coord', 'user_timezone'])\n",
        "except KeyError:\n",
        "  print(\"The columns have already been removed\")\n",
        "finally:\n",
        "  tweets['tweet_created'] = pd.to_datetime(tweets['tweet_created'])\n",
        "\n"
      ],
      "execution_count": 0,
      "outputs": []
    },
    {
      "cell_type": "markdown",
      "metadata": {
        "colab_type": "text",
        "id": "BjEgMqeMI179"
      },
      "source": [
        "## 4) EXPLORATORY DATA ANALYSIS"
      ]
    },
    {
      "cell_type": "markdown",
      "metadata": {
        "colab_type": "text",
        "id": "mSKLgY3mI5dk"
      },
      "source": [
        "### 4.1) Sentiment Analysis by Airline\n",
        "We want to visualize the **distribution sentiment analysis by company**.\n"
      ]
    },
    {
      "cell_type": "code",
      "metadata": {
        "colab_type": "code",
        "id": "QbRKTVBvWCtz",
        "outputId": "2af02480-e483-471f-8159-e14d47445a9e",
        "colab": {
          "base_uri": "https://localhost:8080/",
          "height": 910
        }
      },
      "source": [
        "def sentiment_by_airline(Airline):\n",
        "  df=tweets[tweets['airline']==Airline]\n",
        "  count=df['airline_sentiment'].value_counts()\n",
        "  Index = [1,2,3]\n",
        "  plt.bar(Index,count,color=['darkred', 'darkblue', 'darkgreen'])\n",
        "  plt.xticks(Index,['Negative','Neutral','Positive'])\n",
        "  plt.ylabel('Number of tweets')\n",
        "  plt.xlabel('Mood')\n",
        "  plt.title(Airline)\n",
        "  plt.ylim(0,3000)\n",
        "  plt.grid(which='major', linestyle=':', linewidth='0.5', color='grey')\n",
        "\n",
        "airlines = [\"American\", \"Delta\", \"Southwest\", \"US Airways\", \"United\", \"Virgin America\"]\n",
        "plt.figure(1,figsize=(12, 12))\n",
        "\n",
        "\n",
        "for airline in airlines:\n",
        "  plt.subplot(231 + airlines.index(airline))\n",
        "  sentiment_by_airline(airline)\n",
        "plt.tight_layout()\n",
        "\n",
        "count=tweets['airline_sentiment'].value_counts()\n",
        "print(\"The most common class is negative mood = \"+\"{:.2%}\".format(count[0]/sum(count[0:3])))\n"
      ],
      "execution_count": 6,
      "outputs": [
        {
          "output_type": "stream",
          "text": [
            "The most common class is negative mood = 63.66%\n"
          ],
          "name": "stdout"
        },
        {
          "output_type": "display_data",
          "data": {
            "image/png": "[encoded data removed]",
            "text/plain": [
              "<Figure size 864x864 with 6 Axes>"
            ]
          },
          "metadata": {
            "tags": []
          }
        }
      ]
    },
    {
      "cell_type": "markdown",
      "metadata": {
        "colab_type": "text",
        "id": "GMC4HowyJJOK"
      },
      "source": [
        "### 4.2) Negative Reason by Airline\n",
        "In the previous graph we saw that the most common class was the *Negative mood*. Now we want to visualize the **negative ratings clustered on topics**."
      ]
    },
    {
      "cell_type": "code",
      "metadata": {
        "colab_type": "code",
        "id": "CkQZt7Wdg_TR",
        "outputId": "b600ffc3-d95a-419d-9ff6-e8296f87c0b9",
        "colab": {
          "base_uri": "https://localhost:8080/",
          "height": 993
        }
      },
      "source": [
        "cmap = ['maroon', 'darkred', 'brown', 'indianred', 'darksalmon', 'salmon', 'lightsalmon', 'peachpuff', 'lavenderblush', 'lightyellow']\n",
        "def negative_reason(Airline):\n",
        "  df=tweets[tweets['airline']== Airline]\n",
        "  Neg_reasons_values = df['negativereason'].value_counts(sort=True)\n",
        "  Neg_reasons_labels = dict(df['negativereason'].value_counts(sort=True))\n",
        "  Index = range(len(Neg_reasons_values))\n",
        "  barplot = plt.bar(Index,Neg_reasons_values, alpha = 0.85)\n",
        "  \n",
        "  plt.xticks(Index,Neg_reasons_labels, rotation = 90)\n",
        "  plt.title(Airline)\n",
        "\n",
        "  for color in cmap:\n",
        "    barplot[cmap.index(color)].set_color(color)\n",
        "  \n",
        "  return (\"The 3 main negative topics of \" + Airline + \" are: (1) \" + list(Neg_reasons_labels.keys())[0] + \n",
        "  \", (2) \" + list(Neg_reasons_labels.keys())[1] + \" and (3) \" + list(Neg_reasons_labels.keys())[2])\n",
        "\n",
        "\n",
        "airlines = [\"American\", \"Delta\", \"Southwest\", \"US Airways\", \"United\", \"Virgin America\"]\n",
        "plt.figure(1,figsize=(12, 12))\n",
        "\n",
        "for airline in airlines:\n",
        "  plt.subplot(231 + airlines.index(airline))\n",
        "  print(negative_reason(airline))\n",
        "\n",
        "plt.tight_layout()\n",
        "\n"
      ],
      "execution_count": 7,
      "outputs": [
        {
          "output_type": "stream",
          "text": [
            "The 3 main negative topics of American are: (1) Customer Service Issue, (2) Cancelled Flight and (3) Late Flight\n",
            "The 3 main negative topics of Delta are: (1) Late Flight, (2) Customer Service Issue and (3) Can't Tell\n",
            "The 3 main negative topics of Southwest are: (1) Customer Service Issue, (2) Cancelled Flight and (3) Can't Tell\n",
            "The 3 main negative topics of US Airways are: (1) Customer Service Issue, (2) Late Flight and (3) Can't Tell\n",
            "The 3 main negative topics of United are: (1) Customer Service Issue, (2) Late Flight and (3) Can't Tell\n",
            "The 3 main negative topics of Virgin America are: (1) Customer Service Issue, (2) Flight Booking Problems and (3) Cancelled Flight\n"
          ],
          "name": "stdout"
        },
        {
          "output_type": "display_data",
          "data": {
            "image/png": "[encoded data removed]",
            "text/plain": [
              "<Figure size 864x864 with 6 Axes>"
            ]
          },
          "metadata": {
            "tags": []
          }
        }
      ]
    },
    {
      "cell_type": "markdown",
      "metadata": {
        "colab_type": "text",
        "id": "Bn9khOiXJfvz"
      },
      "source": [
        "### 4.3) Tweet volum per day\n"
      ]
    },
    {
      "cell_type": "code",
      "metadata": {
        "colab_type": "code",
        "id": "ZimR4W84Cnje",
        "outputId": "6a2d2228-787b-41a3-afb9-8bbcfe9bb119",
        "colab": {
          "base_uri": "https://localhost:8080/",
          "height": 495
        }
      },
      "source": [
        "X = tweets['tweet_created']\n",
        "\n",
        "fig, ax = plt.subplots(figsize=(15,7))\n",
        "X.groupby([X.dt.day]).count().plot(kind=\"bar\")\n",
        "ax.set_title('Tweet volum per day')\n",
        "ax.set_ylabel(\"# number of Tweets\")\n",
        "ax.set_xlabel(\"Day\")\n",
        "plt.xticks(rotation = 0)\n"
      ],
      "execution_count": 8,
      "outputs": [
        {
          "output_type": "execute_result",
          "data": {
            "text/plain": [
              "(array([0, 1, 2, 3, 4, 5, 6, 7, 8]), <a list of 9 Text xticklabel objects>)"
            ]
          },
          "metadata": {
            "tags": []
          },
          "execution_count": 8
        },
        {
          "output_type": "display_data",
          "data": {
            "image/png": "[encoded data removed]",
            "text/plain": [
              "<Figure size 1080x504 with 1 Axes>"
            ]
          },
          "metadata": {
            "tags": []
          }
        }
      ]
    },
    {
      "cell_type": "markdown",
      "metadata": {
        "colab_type": "text",
        "id": "2gqVrpjOJkr_"
      },
      "source": [
        "### 4.4) Tweet volum per hour and per day\n"
      ]
    },
    {
      "cell_type": "code",
      "metadata": {
        "colab_type": "code",
        "id": "TCg19IAVN8q3",
        "outputId": "b323bd5f-d2b6-4ed3-b5b8-0dedaddd1c2e",
        "colab": {
          "base_uri": "https://localhost:8080/",
          "height": 594
        }
      },
      "source": [
        "df = tweets[['tweet_created', 'airline_sentiment_confidence']]\n",
        "df['tweet_created'] = pd.to_datetime(df['tweet_created'])\n",
        "X = df['tweet_created']\n",
        "\n",
        "fig, ax = plt.subplots(figsize=(15,7))\n",
        "X.groupby([X.dt.day,X.dt.hour]).count().plot(ax=ax)\n",
        "ax.set_title('Tweet volum per hour')\n",
        "ax.set_xlabel(\"(day, hour)\")\n",
        "ax.set_ylabel(\"# number of Tweets\")\n"
      ],
      "execution_count": 9,
      "outputs": [
        {
          "output_type": "stream",
          "text": [
            "/usr/local/lib/python3.6/dist-packages/ipykernel_launcher.py:2: SettingWithCopyWarning: \n",
            "A value is trying to be set on a copy of a slice from a DataFrame.\n",
            "Try using .loc[row_indexer,col_indexer] = value instead\n",
            "\n",
            "See the caveats in the documentation: http://pandas.pydata.org/pandas-docs/stable/user_guide/indexing.html#returning-a-view-versus-a-copy\n",
            "  \n"
          ],
          "name": "stderr"
        },
        {
          "output_type": "execute_result",
          "data": {
            "text/plain": [
              "Text(0, 0.5, '# number of Tweets')"
            ]
          },
          "metadata": {
            "tags": []
          },
          "execution_count": 9
        },
        {
          "output_type": "display_data",
          "data": {
            "image/png": "[encoded data removed]",
            "text/plain": [
              "<Figure size 1080x504 with 1 Axes>"
            ]
          },
          "metadata": {
            "tags": []
          }
        }
      ]
    },
    {
      "cell_type": "markdown",
      "metadata": {
        "colab_type": "text",
        "id": "r4SWI6VMJtfM"
      },
      "source": [
        "### 4.5) Stock market\n",
        "*NOT IMPLEMENTED YET*"
      ]
    },
    {
      "cell_type": "code",
      "metadata": {
        "colab_type": "code",
        "id": "RrMGPrM3iwzr",
        "outputId": "c9fcf8fa-4633-4d47-9344-b72e80cd26d7",
        "colab": {
          "base_uri": "https://localhost:8080/",
          "height": 54
        }
      },
      "source": [
        "# Preparing the dataset\n",
        "\"\"\"X_AAL = pd.to_datetime(AAL[\"Date\"])\n",
        "y_AAL = (AAL[\"Low\"] + AAL[\"High\"])/2\n",
        "X_DAL = DAL[\"Date\"]\n",
        "y_DAL = (DAL[\"Low\"] + DAL[\"High\"])/2\n",
        "\n",
        "# Initialize the data\n",
        "data = pd.DataFrame(data={'Date': X_AAL, 'Avg Price': y_AAL})\n",
        "\n",
        "# Create an lineplot\n",
        "plt.figure(figsize=(15,7))\n",
        "sns.lineplot(x=\"Date\", y=\"Avg Price\", data=data)\n",
        "plt.title(\"American Airlines (AAL)\")\n",
        "plt.show()\"\"\""
      ],
      "execution_count": 10,
      "outputs": [
        {
          "output_type": "execute_result",
          "data": {
            "text/plain": [
              "'X_AAL = pd.to_datetime(AAL[\"Date\"])\\ny_AAL = (AAL[\"Low\"] + AAL[\"High\"])/2\\nX_DAL = DAL[\"Date\"]\\ny_DAL = (DAL[\"Low\"] + DAL[\"High\"])/2\\n\\n# Initialize the data\\ndata = pd.DataFrame(data={\\'Date\\': X_AAL, \\'Avg Price\\': y_AAL})\\n\\n# Create an lineplot\\nplt.figure(figsize=(15,7))\\nsns.lineplot(x=\"Date\", y=\"Avg Price\", data=data)\\nplt.title(\"American Airlines (AAL)\")\\nplt.show()'"
            ]
          },
          "metadata": {
            "tags": []
          },
          "execution_count": 10
        }
      ]
    },
    {
      "cell_type": "markdown",
      "metadata": {
        "colab_type": "text",
        "id": "W2TJPb-1vFgT"
      },
      "source": [
        "### 4.6) Web scraping data\n",
        "The idea here is to increase our data set. We consider relevant to add the **total amount of followers** and if the **account is verified** or not for each twitter account of our database.\n",
        "\n",
        "Find below a small sample. We will upload another file with all this the data asap."
      ]
    },
    {
      "cell_type": "code",
      "metadata": {
        "colab_type": "code",
        "id": "NwX6EPJwu9-7",
        "outputId": "d79049c5-899d-4bfc-de32-34d27c7adc5a",
        "colab": {
          "base_uri": "https://localhost:8080/",
          "height": 87
        }
      },
      "source": [
        "from bs4 import BeautifulSoup\n",
        "import requests\n",
        "\n",
        "accounts = ('jnardino', 'cairdin', 'yvonnalynn')\n",
        "\n",
        "for account in accounts:\n",
        "    url = 'https://www.twitter.com/' + account\n",
        "    r = requests.get(url)\n",
        "    soup = BeautifulSoup(r.content, \"lxml\")\n",
        "\n",
        "    f = soup.find('li', class_=\"ProfileNav-item--followers\")\n",
        "    title = f.find('a')['title']\n",
        "    print(list((title, account)))"
      ],
      "execution_count": 11,
      "outputs": [
        {
          "output_type": "stream",
          "text": [
            "['7,726 Followers', 'jnardino']\n",
            "['517 Followers', 'cairdin']\n",
            "['1,823 Followers', 'yvonnalynn']\n"
          ],
          "name": "stdout"
        }
      ]
    },
    {
      "cell_type": "markdown",
      "metadata": {
        "colab_type": "text",
        "id": "0vuBfZrWJ194"
      },
      "source": [
        "### 4.7) World cloud"
      ]
    },
    {
      "cell_type": "markdown",
      "metadata": {
        "colab_type": "text",
        "id": "TCLhBW-8lSj-"
      },
      "source": [
        "#### 4.7.1) Draw wordcloud function\n",
        "\n",
        "The **`draw_wordcloud`** function allows to plot the drawcloud according to the sentiment analysis:\n",
        "\n",
        "**Arguments**: \n",
        "*   `sentiment`: string representing the sentiment. The possible values are: `('positive', 'negative', 'neutral')`. "
      ]
    },
    {
      "cell_type": "code",
      "metadata": {
        "colab_type": "code",
        "id": "Q-dEkh20lSj-",
        "colab": {}
      },
      "source": [
        "def draw_wordcloud(sentiment):\n",
        "    sentiment_tweets  =tweets[tweets['airline_sentiment']== sentiment]\n",
        "    words = ' '.join(sentiment_tweets['text'])\n",
        "    cleaned_word = \" \".join([word for word in words.split() if 'http' not in word and not word.startswith('@') and word != 'RT'])\n",
        "    wordcloud = WordCloud(stopwords=STOPWORDS,background_color='white',width=3000, height=2500).generate(cleaned_word)\n",
        "    plt.figure(1,figsize=(15,15))\n",
        "    plt.imshow(wordcloud)\n",
        "    plt.axis('off')\n",
        "    plt.show()"
      ],
      "execution_count": 0,
      "outputs": []
    },
    {
      "cell_type": "code",
      "metadata": {
        "colab_type": "code",
        "id": "DwfJoyRPlSkB",
        "colab": {}
      },
      "source": [
        "# draw_wordcloud('negative')"
      ],
      "execution_count": 0,
      "outputs": []
    },
    {
      "cell_type": "code",
      "metadata": {
        "colab_type": "code",
        "id": "rfxsGS4ulSkE",
        "colab": {}
      },
      "source": [
        "# draw_wordcloud('positive')"
      ],
      "execution_count": 0,
      "outputs": []
    },
    {
      "cell_type": "code",
      "metadata": {
        "colab_type": "code",
        "id": "f2PyvOrDlSkK",
        "colab": {}
      },
      "source": [
        "# draw_wordcloud('neutral')"
      ],
      "execution_count": 0,
      "outputs": []
    },
    {
      "cell_type": "markdown",
      "metadata": {
        "colab_type": "text",
        "id": "GxzHCVSoHvpo"
      },
      "source": [
        "## 5) DATA MINING AND MACHINE LEARNING"
      ]
    },
    {
      "cell_type": "markdown",
      "metadata": {
        "colab_type": "text",
        "id": "8Rj9wyKOwFFR"
      },
      "source": [
        "### The structure of DM & ML\n",
        "- 5.0) Try our model classification -> Expected bad accuracy **TO DO**\n",
        "- 5.1) Classify the tweets using TextBlob and Valder -> Accuracy 55%\n",
        "- 5.2) Understand why those methods classified wrongly the tweets and create the **Major Matrix** to store the wrong classified tweets\n",
        "- 5.3) Reclassified the tweets in the **Major Matrix** -> Expected better accuracy\n",
        "- 5.4) Implement the whole process with train and test validation\n",
        "- 5.5) If it is possible to validate the model with another dataset\n",
        "- 5.6) Business model: Sort the tweets that have to be replied firstly: \n",
        "   - (i) Based on polarity (Valder index)\n",
        "   - (ii) Based on verified account\n",
        "   - (iii) Based on # number of followers\n",
        "- 5.7) Vader and TextBlob"
      ]
    },
    {
      "cell_type": "markdown",
      "metadata": {
        "colab_type": "text",
        "id": "VVbN7WpfYx4N"
      },
      "source": [
        "### 5.0) Using the methods seen in class"
      ]
    },
    {
      "cell_type": "markdown",
      "metadata": {
        "colab_type": "text",
        "id": "lPu6LpS0rMB3"
      },
      "source": [
        "Function tokenization_tweets\n",
        "\n",
        "The function **`tokenization_tweets`** allows the user to *tokenize* the tweet removing the *noise*:\n",
        "\n",
        "**Tokens removed**:\n",
        "*   Stop words\n",
        "*   Punctuation\n",
        "*   Tokens with less than 3 characters\n",
        "*   Tokens containing a non alphabet character (i.e. \"/\", \"@\", etc.)\n",
        "*   Empty tokens (not implemented)\n",
        "\n",
        "Then the trailing whitespaces are removed from the token using `strip()` and finally is converted to a lowercase word using `lower()`. If after removing the not desired tokens the `filtered_tweet` is empty, we do not include it into the `list_filtered_tweets`.\n",
        "\n",
        "**Arguments**: \n",
        "*   `list_tweets`: array containing the tweets. \n",
        "*   `number_observations`: how many observations we want to treat (it will be removed in the future but now is usefull)"
      ]
    },
    {
      "cell_type": "code",
      "metadata": {
        "id": "H8n5i22IsWjI",
        "colab_type": "code",
        "colab": {}
      },
      "source": [
        "wordnet_lemmatizer = WordNetLemmatizer()\n",
        "def tokenization_tweets(tweet):\n",
        "    only_letters = re.sub(\"[^a-zA-Z]\", \" \",tweet) \n",
        "    tokens = nltk.word_tokenize(only_letters)[2:]\n",
        "    lower_case = [l.lower() for l in tokens]\n",
        "    filtered_result = list(filter(lambda l: l not in STOPWORDS, lower_case))\n",
        "    lemmas = [wordnet_lemmatizer.lemmatize(t) for t in filtered_result]\n",
        "    return lemmas"
      ],
      "execution_count": 0,
      "outputs": []
    },
    {
      "cell_type": "code",
      "metadata": {
        "id": "MCSym1VKt54B",
        "colab_type": "code",
        "colab": {}
      },
      "source": [
        "# Saving tokens for each tweets\n",
        "tweets['tokenized_tweet'] = tweets.text.apply(tokenization_tweets)"
      ],
      "execution_count": 0,
      "outputs": []
    },
    {
      "cell_type": "code",
      "metadata": {
        "id": "iCdMyOyc-Ozf",
        "colab_type": "code",
        "colab": {}
      },
      "source": [
        "# Saving tokens for each tweet as a string\n",
        "tweets['tokens_string'] = tweets.tokenized_tweet.apply(lambda token:' '.join(token))"
      ],
      "execution_count": 0,
      "outputs": []
    },
    {
      "cell_type": "code",
      "metadata": {
        "colab_type": "code",
        "id": "M0G3JPrnmF73",
        "colab": {}
      },
      "source": [
        "X = tweets['tokens_string'] # the features we want to analyze, we can play with others too\n",
        "y = tweets['airline_sentiment'] # the labels, or answers, we want to test against\n",
        "\n",
        "X_train, X_test, y_train, y_test = train_test_split(X, y, test_size=0.2, random_state=72)"
      ],
      "execution_count": 0,
      "outputs": []
    },
    {
      "cell_type": "markdown",
      "metadata": {
        "colab_type": "text",
        "id": "5b3L8aR3NOgo"
      },
      "source": [
        "#### 5.0.1) Logistic Regression Classifier\n",
        "> **Count Vectorizer:** The most straightforward one, it counts the number of times a token shows up in the document and uses this value as its weight.*italicized text*"
      ]
    },
    {
      "cell_type": "code",
      "metadata": {
        "colab_type": "code",
        "id": "9Sn2o1oU47ya",
        "colab": {}
      },
      "source": [
        "v = CountVectorizer(analyzer = \"word\")\n",
        "\n",
        "train_features= v.fit_transform(X_train)\n",
        "test_features=v.transform(X_test)"
      ],
      "execution_count": 0,
      "outputs": []
    },
    {
      "cell_type": "code",
      "metadata": {
        "colab_type": "code",
        "id": "uYLQ65-QJDaK",
        "outputId": "29df535d-3659-4263-f1ba-955fff280d98",
        "colab": {
          "base_uri": "https://localhost:8080/",
          "height": 87
        }
      },
      "source": [
        "classifier = LogisticRegression(C=0.0001,solver='liblinear',max_iter=200)\n",
        "fit = classifier.fit(train_features,y_train)\n",
        "pred = fit.predict(test_features)\n",
        "\n",
        "accuracy = accuracy_score(pred,y_test)\n",
        "print('Accuracy of Logistic regression is '+ str(accuracy))\n"
      ],
      "execution_count": 21,
      "outputs": [
        {
          "output_type": "stream",
          "text": [
            "Accuracy of Logistic regression is 0.6412556053811659\n"
          ],
          "name": "stdout"
        },
        {
          "output_type": "stream",
          "text": [
            "/usr/local/lib/python3.6/dist-packages/sklearn/linear_model/logistic.py:469: FutureWarning: Default multi_class will be changed to 'auto' in 0.22. Specify the multi_class option to silence this warning.\n",
            "  \"this warning.\", FutureWarning)\n"
          ],
          "name": "stderr"
        }
      ]
    },
    {
      "cell_type": "markdown",
      "metadata": {
        "colab_type": "text",
        "id": "W1Yu7luoe-j8"
      },
      "source": [
        "#### 5.0.2) K Neighbors Classifier\n",
        "> **KNeighborsClassifier:** classifies the tweets into different classes according to the k nearest neighbors. \n",
        "We used uniform weights, meaning that all points in each neighborhood are weighted equally.\n"
      ]
    },
    {
      "cell_type": "code",
      "metadata": {
        "colab_type": "code",
        "id": "VhhdFdyQXwS1",
        "outputId": "98243dea-1c69-4209-aa5b-e8f71b3450a7",
        "colab": {
          "base_uri": "https://localhost:8080/",
          "height": 54
        }
      },
      "source": [
        "classifier = KNeighborsClassifier(3)\n",
        "fit = classifier.fit(train_features,y_train)\n",
        "pred = fit.predict(test_features)\n",
        "\n",
        "accuracy = accuracy_score(pred,y_test)\n",
        "print('Accuracy of KNeighborsClassifier is '+ str(accuracy)) "
      ],
      "execution_count": 22,
      "outputs": [
        {
          "output_type": "stream",
          "text": [
            "Accuracy of KNeighborsClassifier is 0.4944965348552792\n"
          ],
          "name": "stdout"
        }
      ]
    },
    {
      "cell_type": "markdown",
      "metadata": {
        "colab_type": "text",
        "id": "Xpj1_MWOfDFR"
      },
      "source": [
        "#### 5.0.3) Decision Tree Classifier\n",
        "> **DecisionTreeClassifier:** splits the tweets into different classes according to specific criteria.<br/>\n",
        "Here we use the following default parameters: <br/>\n",
        "- criterion='gini', <br/> \n",
        "To measure the quality of a split we used the Gini impurity. \n",
        "Gini impurity is a measure of how often a randomly chosen element from the set would be incorrectly labeled if it was randomly labeled according to the distribution of labels in the subset. \n",
        "- splitter='best',<br/>\n",
        "To choose the split at each node we chose the best split algorithm. \n",
        "- max_depth=None,<br/>\n",
        "We did not define any maximum depth."
      ]
    },
    {
      "cell_type": "code",
      "metadata": {
        "colab_type": "code",
        "id": "E0z0mQxtYqrw",
        "outputId": "8f6756b0-71d2-4379-901c-4f768f2c30c7",
        "colab": {
          "base_uri": "https://localhost:8080/",
          "height": 54
        }
      },
      "source": [
        "classifier = DecisionTreeClassifier()\n",
        "fit = classifier.fit(train_features,y_train)\n",
        "pred = fit.predict(test_features)\n",
        "\n",
        "accuracy = accuracy_score(pred,y_test)\n",
        "print('Accuracy of Decision Tree Classifier is '+ str(accuracy)) "
      ],
      "execution_count": 23,
      "outputs": [
        {
          "output_type": "stream",
          "text": [
            "Accuracy of Decision Tree Classifier is 0.6624541377904607\n"
          ],
          "name": "stdout"
        }
      ]
    },
    {
      "cell_type": "markdown",
      "metadata": {
        "colab_type": "text",
        "id": "sBYT9qpqfVnE"
      },
      "source": [
        "#### 5.0.4) Random Forest Classifier\n",
        "> **RandomForestClassifier:** fits decision trees on randomly selected sub-samples of the dataset, gets prediction from each tree and selects the best solution (improve accurary and control over-fitting) by averaging.\n",
        "The sub-sample size is always the same as the original\n",
        "input sample size. Here we chose to draw the samples with replacement as we set`bootstrap=True`."
      ]
    },
    {
      "cell_type": "code",
      "metadata": {
        "colab_type": "code",
        "id": "B4cO0C26ZOLU",
        "outputId": "d2cb360a-9b11-46b6-b8d7-0f070fed8c3f",
        "colab": {
          "base_uri": "https://localhost:8080/",
          "height": 54
        }
      },
      "source": [
        "classifier = RandomForestClassifier(n_estimators=200)\n",
        "fit = classifier.fit(train_features,y_train)\n",
        "pred = fit.predict(test_features)\n",
        "\n",
        "accuracy = accuracy_score(pred,y_test)\n",
        "print('Accuracy of Random Forest Classifier is '+ str(accuracy)) "
      ],
      "execution_count": 24,
      "outputs": [
        {
          "output_type": "stream",
          "text": [
            "Accuracy of Random Forest Classifier is 0.7407256420709335\n"
          ],
          "name": "stdout"
        }
      ]
    },
    {
      "cell_type": "markdown",
      "metadata": {
        "colab_type": "text",
        "id": "DbH74JejC37v"
      },
      "source": [
        "### 5.1) Classification using TextBlob and Valder\n",
        "#### 5.1.1) Function tweet_sentiment_analysis\n",
        "The function **`tweet_sentiment_analysis`** computes the sentiment analysis of each tweet using **TextBlob** (`polarity` and `subjectivity`) and using **Valder** (`neg`, `neu`, `pos` and `compound`)\n",
        "\n",
        "> **Polarity** : Polarity is a float value within the range `[-1.0 to 1.0]` where 0 indicates neutral, +1 indicates a very positive sentiment and -1 represents a very negative sentiment.\n",
        "\n",
        "> **Subjectivity**: Subjectivity is a float value within the range `[0.0 to 1.0]` where 0.0 is very objective and 1.0 is very subjective. \n",
        "\n",
        "> **Compound**: Similar to polarity in Textblob, is a float value within the range `[0.0 to 1.0]` where 0.0 is very objective and 1.0 is very subjective. A key difference however, is that Vader was designed with a focus on social media texts. "
      ]
    },
    {
      "cell_type": "code",
      "metadata": {
        "colab_type": "code",
        "id": "jRVDmmpqCv85",
        "colab": {}
      },
      "source": [
        "def sentiment_analysis(tweet_to_be_classified): #here we use unfiltered tweets because TextBlob and Valder filters them \n",
        "    list_sentiments_textblob = []\n",
        "    list_sentiments_valder = []\n",
        "    valder = SentimentIntensityAnalyzer()\n",
        "\n",
        "    for element in tweet_to_be_classified:\n",
        "        list_sentiments_textblob.append(TextBlob(element).sentiment) # TextBlob \n",
        "        list_sentiments_valder.append(valder.polarity_scores(element)) # Valder\n",
        "\n",
        "    df = pd.concat([pd.DataFrame(list_sentiments_valder), pd.DataFrame(list_sentiments_textblob)], axis=1, sort=False)\n",
        "\n",
        "    return df"
      ],
      "execution_count": 0,
      "outputs": []
    },
    {
      "cell_type": "code",
      "metadata": {
        "colab_type": "code",
        "id": "FtD_suchFZlx",
        "colab": {}
      },
      "source": [
        "# Applying the formula sentiment analysis for the whole dataset.\n",
        "sentiment_table = sentiment_analysis(tweets[\"text\"])"
      ],
      "execution_count": 0,
      "outputs": []
    },
    {
      "cell_type": "code",
      "metadata": {
        "colab_type": "code",
        "id": "lFyl6Rs20czp",
        "colab": {}
      },
      "source": [
        "# Storing the sentiment analysis in the dataframe tweets\n",
        "tweets[\"polarity_Valder\"] = sentiment_table[\"compound\"]\n",
        "tweets[\"polarity_Textblob\"] = sentiment_table[\"polarity\"]"
      ],
      "execution_count": 0,
      "outputs": []
    },
    {
      "cell_type": "markdown",
      "metadata": {
        "colab_type": "text",
        "id": "1J0nK-FfFh5s"
      },
      "source": [
        "#### 5.1.2) Function polarity_string_conversion\n",
        "\n",
        "For technical purposes it is needed to convert the sentiment data we found into strings.\n",
        "Such that:\n",
        "> **Polarity ϵ {-1, 1}**\n",
        "* `polarity < 0`: the tweet is negative <br>\n",
        "* `polarity == 0`: the tweet is neutral <br>\n",
        "* `polarity <= 1`: the tweet is positive <br>\n",
        "\n",
        "$$ \\ \\ \\ \\ \\ \\ \\ \\ \\ \\ \\ \\ \\ \\ Where \\ p \\in (-1, 1)$$\n",
        "\n",
        "\n",
        "$$\n",
        "T(p) = \\left\\{\n",
        "        \\begin{array}{ll}\n",
        "            negative & if \\quad p < 0 \\\\\n",
        "            neutral & if \\quad p = 0 \\\\\n",
        "            positive & if \\quad p > 0 \\\\\n",
        "        \\end{array}\n",
        "    \\right.\n",
        "$$"
      ]
    },
    {
      "cell_type": "code",
      "metadata": {
        "colab_type": "code",
        "id": "UIF7FArfu5eL",
        "colab": {}
      },
      "source": [
        "def polarity_string_conversion(polarity_values, new_column_name):\n",
        "  polarity_string=[]\n",
        "\n",
        "  for element in polarity_values:\n",
        "    if element < 0:\n",
        "      polarity_string.append(\"negative\")\n",
        "    elif element == 0:\n",
        "      polarity_string.append(\"neutral\")\n",
        "    else: \n",
        "      polarity_string.append(\"positive\")\n",
        "\n",
        "  #Adding the string conversion to tweets dataframe\n",
        "  tweets[new_column_name] = polarity_string"
      ],
      "execution_count": 0,
      "outputs": []
    },
    {
      "cell_type": "code",
      "metadata": {
        "colab_type": "code",
        "id": "7faSfUT5v2Jr",
        "outputId": "5865ab2a-cabd-42dc-b9b1-2f2f17c31df9",
        "colab": {
          "base_uri": "https://localhost:8080/",
          "height": 170
        }
      },
      "source": [
        "# Computing the conversion and storing to tweets dataframe for both methods\n",
        "polarity_string_conversion(tweets[\"polarity_Textblob\"], \"polarity_Textblob_string\")\n",
        "polarity_string_conversion(tweets[\"polarity_Valder\"], \"polarity_Valder_string\")\n",
        "print(tweets.head(5))"
      ],
      "execution_count": 29,
      "outputs": [
        {
          "output_type": "stream",
          "text": [
            "   Unnamed: 0  ...  polarity_Valder_string\n",
            "0           0  ...                 neutral\n",
            "1           1  ...                 neutral\n",
            "2           2  ...                negative\n",
            "3           3  ...                negative\n",
            "4           4  ...                negative\n",
            "\n",
            "[5 rows x 20 columns]\n"
          ],
          "name": "stdout"
        }
      ]
    },
    {
      "cell_type": "markdown",
      "metadata": {
        "colab_type": "text",
        "id": "sJWE5s0ZzlVY"
      },
      "source": [
        "#### 5.1.3) Function classification_sentiment_accuracy\n",
        "\n",
        "The below formula enables to compute the accuracy of each method. The argument is the method as a string: `('Textblob', 'Valder')`. "
      ]
    },
    {
      "cell_type": "code",
      "metadata": {
        "colab_type": "code",
        "id": "M9SdjkVZG3tQ",
        "colab": {}
      },
      "source": [
        "# Preparing the data to be compared with the original classification sentiment\n",
        "def classification_sentiment_accuracy(method_used):\n",
        "  number_equal_sentiment = 0\n",
        "  for i in range(len(tweets[\"airline_sentiment\"])):\n",
        "    if tweets[\"airline_sentiment\"][i] == tweets[\"polarity_\"+ method_used +\"_string\"][i]:\n",
        "        number_equal_sentiment += 1\n",
        "  return (\"Using the method \"+ method_used + \": We estimated \" + str(number_equal_sentiment) + \" sentiments in the same way as the sentiments provided by the data set.\\n\" + \n",
        "          \"The \" + method_used + \" accuracy is equal to {:.2%}\".format(number_equal_sentiment/len(tweets[\"airline_sentiment\"])))"
      ],
      "execution_count": 0,
      "outputs": []
    },
    {
      "cell_type": "code",
      "metadata": {
        "colab_type": "code",
        "id": "cPtzuZ9oyuxL",
        "outputId": "52c3d60c-b344-40a0-8be2-659c709c576b",
        "colab": {
          "base_uri": "https://localhost:8080/",
          "height": 104
        }
      },
      "source": [
        "# Printing the accuracy for each method used\n",
        "print(classification_sentiment_accuracy(\"Textblob\"))\n",
        "print(classification_sentiment_accuracy(\"Valder\"))"
      ],
      "execution_count": 31,
      "outputs": [
        {
          "output_type": "stream",
          "text": [
            "Using the method Textblob: We estimated 5659 sentiments in the same way as the sentiments provided by the data set.\n",
            "The Textblob accuracy is equal to 46.14%\n",
            "Using the method Valder: We estimated 6721 sentiments in the same way as the sentiments provided by the data set.\n",
            "The Valder accuracy is equal to 54.80%\n"
          ],
          "name": "stdout"
        }
      ]
    },
    {
      "cell_type": "markdown",
      "metadata": {
        "colab_type": "text",
        "id": "vNZipMdN0dz-"
      },
      "source": [
        "### 5.2) Why some tweets were classified wrongly\n",
        "#### 5.2.1) Confusion Matrix\n",
        "First of all, we show how the errors are distributed. The Confusion matrix does a good work for that purpose. We have 6 types of errors since there are 3 classes.\n",
        "\n",
        "**Note:** Notice that the values showed in below are expressed as a percentage:"
      ]
    },
    {
      "cell_type": "code",
      "metadata": {
        "colab_type": "code",
        "id": "ULY-OaAlZDUs",
        "outputId": "dcef9f65-20a4-4b43-a908-c312bee00e66",
        "colab": {
          "base_uri": "https://localhost:8080/",
          "height": 153
        }
      },
      "source": [
        "# Computing the Confusion Matrix of each method\n",
        "print(confusion_matrix(tweets[\"airline_sentiment\"], tweets[\"polarity_Textblob_string\"])/len(tweets[\"airline_sentiment\"]), \"\\n\")\n",
        "print(confusion_matrix(tweets[\"airline_sentiment\"], tweets[\"polarity_Valder_string\"])/len(tweets[\"airline_sentiment\"]))"
      ],
      "execution_count": 38,
      "outputs": [
        {
          "output_type": "stream",
          "text": [
            "[[0.23 0.23 0.19]\n",
            " [0.02 0.11 0.07]\n",
            " [0.01 0.03 0.12]] \n",
            "\n",
            "[[0.32 0.12 0.19]\n",
            " [0.03 0.08 0.09]\n",
            " [0.01 0.01 0.14]]\n"
          ],
          "name": "stdout"
        }
      ]
    },
    {
      "cell_type": "markdown",
      "metadata": {
        "colab_type": "text",
        "id": "KwlSA50GJWWc"
      },
      "source": [
        "#### 5.2.2) Confusion Matrix plot\n",
        "TO DO: explain it\n"
      ]
    },
    {
      "cell_type": "code",
      "metadata": {
        "colab_type": "code",
        "id": "w781EUdMapoT",
        "outputId": "0254de44-e517-48ec-ee4e-4646c5f8ed3d",
        "colab": {
          "base_uri": "https://localhost:8080/",
          "height": 702
        }
      },
      "source": [
        "# CONFUSION MATRIX PLOT\n",
        "def plot_confusion_matrix(method, cm, classes, normalize=False, cmap=plt.cm.Blues):\n",
        "    if normalize:\n",
        "        cm = cm.astype('float') / cm.sum(axis=1)[:, np.newaxis]\n",
        "\n",
        "    plt.imshow(cm, interpolation='nearest', cmap=cmap)\n",
        "    plt.colorbar()\n",
        "    tick_marks = np.arange(len(classes))\n",
        "    plt.xticks(tick_marks, classes)\n",
        "    plt.yticks(tick_marks, classes)\n",
        "\n",
        "    fmt = '.2f' if normalize else 'd'\n",
        "    thresh = cm.max() / 2.\n",
        "    for i, j in itertools.product(range(cm.shape[0]), range(cm.shape[1])):\n",
        "        plt.text(j, i, format(cm[i, j], fmt),\n",
        "                 horizontalalignment=\"center\",\n",
        "                 color=\"white\" if cm[i, j] > thresh else \"black\")\n",
        "\n",
        "    plt.ylim([-0.5, 2.5])\n",
        "    plt.title(method + \" Confusion Matrix\")\n",
        "    plt.ylabel('True label')\n",
        "    plt.xlabel('Predicted label')\n",
        "\n",
        "\n",
        "methods = [\"Valder\", \"Textblob\"]\n",
        "\n",
        "for method in methods:\n",
        "  target = tweets[\"airline_sentiment\"]\n",
        "  predicted_TextBlob = tweets[\"polarity_\"+ method +\"_string\"]\n",
        "\n",
        "  class_names = unique_labels(target, predicted_TextBlob)\n",
        "\n",
        "  # Computing the confusion matrix\n",
        "  cnf_matrix = confusion_matrix(target, predicted_TextBlob)\n",
        "  np.set_printoptions(precision=2)\n",
        "\n",
        "  # Ploting non-normalized confusion matrix\n",
        "  fig, ax = plt.subplots(figsize=(7,5))\n",
        "  plot_confusion_matrix(method, cnf_matrix, classes=class_names)\n",
        "  fig.show()\n"
      ],
      "execution_count": 33,
      "outputs": [
        {
          "output_type": "display_data",
          "data": {
            "image/png": "[encoded data removed]",
            "text/plain": [
              "<Figure size 504x360 with 2 Axes>"
            ]
          },
          "metadata": {
            "tags": []
          }
        },
        {
          "output_type": "display_data",
          "data": {
            "image/png": "[encoded data removed]",
            "text/plain": [
              "<Figure size 504x360 with 2 Axes>"
            ]
          },
          "metadata": {
            "tags": []
          }
        }
      ]
    },
    {
      "cell_type": "markdown",
      "metadata": {
        "id": "0p321jsVnF6-",
        "colab_type": "text"
      },
      "source": [
        "#### 5.2.2) Precision & Recall Scores\n",
        "TO DO: explain it"
      ]
    },
    {
      "cell_type": "code",
      "metadata": {
        "id": "-Dv_3MlPnF6-",
        "colab_type": "code",
        "outputId": "8a92e8b3-3af3-4839-c007-bd59e9d76ef4",
        "colab": {
          "base_uri": "https://localhost:8080/",
          "height": 104
        }
      },
      "source": [
        "#Precision and recall scores\n",
        "\n",
        "#Precision \n",
        "from sklearn.metrics import precision_score\n",
        "\n",
        "y_true= tweets[\"airline_sentiment\"]\n",
        "\n",
        "#for TextBlob\n",
        "y_pred_t = tweets[\"polarity_Textblob_string\"]\n",
        "precision_score(y_true, y_pred_t, average = \"macro\")\n",
        "print(\"The precision score when using TextBlob is of {0:.2f}\".format(precision_score(y_true, y_pred_t, average = \"macro\")))\n",
        "\n",
        "#for Vader\n",
        "y_pred_v= tweets[\"polarity_Valder_string\"]\n",
        "tweets[\"polarity_Valder_string\"]\n",
        "precision_score(y_true, y_pred_v, average = \"macro\")\n",
        "print(\"The precision score when using Vader is of {0:.2f}\".format(precision_score(y_true, y_pred_t, average = \"macro\")))\n",
        "\n",
        "\n",
        "#Recall\n",
        "from sklearn.metrics import recall_score\n",
        "\n",
        "#for TextBlob\n",
        "recall_score(y_true, y_pred_t, average = \"macro\")\n",
        "print(\"The recall score when using TextBlob is of {0:.2f}\".format(recall_score(y_true, y_pred_t, average = \"macro\")))\n",
        "\n",
        "#for Vader\n",
        "recall_score(y_true, y_pred_v, average = \"macro\")\n",
        "print(\"The recall score when using Vader is of {0:.2f}\".format(recall_score(y_true, y_pred_v, average=\"macro\")))\n"
      ],
      "execution_count": 34,
      "outputs": [
        {
          "output_type": "stream",
          "text": [
            "The precision score when using TextBlob is of 0.51\n",
            "The precision score when using Vader is of 0.51\n",
            "The recall score when using TextBlob is of 0.56\n",
            "The recall score when using Vader is of 0.60\n"
          ],
          "name": "stdout"
        }
      ]
    },
    {
      "cell_type": "code",
      "metadata": {
        "id": "ITvpojHKnF7A",
        "colab_type": "code",
        "outputId": "11246c2e-209e-4b56-9f9c-27813b12a3df",
        "colab": {
          "base_uri": "https://localhost:8080/",
          "height": 583
        }
      },
      "source": [
        "#Label_encoder\n",
        "from sklearn.preprocessing import LabelEncoder\n",
        "le = LabelEncoder()\n",
        "y_true_label_enc = le.fit_transform(y_true)\n",
        "y_pred_t_label_enc = le.fit_transform(y_pred_t)\n",
        "y_pred_v_label_enc = le.fit_transform(y_pred_v)\n",
        "\n",
        "#One-hot_encoder\n",
        "from sklearn.preprocessing import OneHotEncoder\n",
        "\n",
        "#True value\n",
        "onehot_encoder = OneHotEncoder(sparse=False)\n",
        "y_true_label_enc = y_true_label_enc.reshape(len(y_true_label_enc), 1)\n",
        "y_true__onehot_enc = onehot_encoder.fit_transform(y_true_label_enc)\n",
        "print(y_true__onehot_enc)\n",
        "\n",
        "#Prediceted value with TextBlob\n",
        "onehot_encoder = OneHotEncoder(sparse=False)\n",
        "y_pred_t_label_enc = y_pred_t_label_enc.reshape(len(y_pred_t_label_enc), 1)\n",
        "y_pred_t_onehot_enc = onehot_encoder.fit_transform(y_pred_t_label_enc)\n",
        "print(y_pred_t_onehot_enc)\n",
        "\n",
        "#Prediceted value with Vader\n",
        "onehot_encoder = OneHotEncoder(sparse=False)\n",
        "y_pred_v_label_enc = y_pred_t_label_enc.reshape(len(y_pred_v_label_enc), 1)\n",
        "y_pred_v_onehot_enc = onehot_encoder.fit_transform(y_pred_v_label_enc)\n",
        "print(y_pred_v_onehot_enc)"
      ],
      "execution_count": 35,
      "outputs": [
        {
          "output_type": "stream",
          "text": [
            "[[0. 1. 0.]\n",
            " [0. 0. 1.]\n",
            " [1. 0. 0.]\n",
            " ...\n",
            " [1. 0. 0.]\n",
            " [1. 0. 0.]\n",
            " [0. 1. 0.]]\n",
            "[[0. 1. 0.]\n",
            " [0. 1. 0.]\n",
            " [0. 0. 1.]\n",
            " ...\n",
            " [0. 0. 1.]\n",
            " [1. 0. 0.]\n",
            " [0. 1. 0.]]\n",
            "[[0. 1. 0.]\n",
            " [0. 1. 0.]\n",
            " [0. 0. 1.]\n",
            " ...\n",
            " [0. 0. 1.]\n",
            " [1. 0. 0.]\n",
            " [0. 1. 0.]]\n"
          ],
          "name": "stdout"
        },
        {
          "output_type": "stream",
          "text": [
            "/usr/local/lib/python3.6/dist-packages/sklearn/preprocessing/_encoders.py:415: FutureWarning: The handling of integer data will change in version 0.22. Currently, the categories are determined based on the range [0, max(values)], while in the future they will be determined based on the unique values.\n",
            "If you want the future behaviour and silence this warning, you can specify \"categories='auto'\".\n",
            "In case you used a LabelEncoder before this OneHotEncoder to convert the categories to integers, then you can now use the OneHotEncoder directly.\n",
            "  warnings.warn(msg, FutureWarning)\n",
            "/usr/local/lib/python3.6/dist-packages/sklearn/preprocessing/_encoders.py:415: FutureWarning: The handling of integer data will change in version 0.22. Currently, the categories are determined based on the range [0, max(values)], while in the future they will be determined based on the unique values.\n",
            "If you want the future behaviour and silence this warning, you can specify \"categories='auto'\".\n",
            "In case you used a LabelEncoder before this OneHotEncoder to convert the categories to integers, then you can now use the OneHotEncoder directly.\n",
            "  warnings.warn(msg, FutureWarning)\n",
            "/usr/local/lib/python3.6/dist-packages/sklearn/preprocessing/_encoders.py:415: FutureWarning: The handling of integer data will change in version 0.22. Currently, the categories are determined based on the range [0, max(values)], while in the future they will be determined based on the unique values.\n",
            "If you want the future behaviour and silence this warning, you can specify \"categories='auto'\".\n",
            "In case you used a LabelEncoder before this OneHotEncoder to convert the categories to integers, then you can now use the OneHotEncoder directly.\n",
            "  warnings.warn(msg, FutureWarning)\n"
          ],
          "name": "stderr"
        }
      ]
    },
    {
      "cell_type": "code",
      "metadata": {
        "id": "WUuvBRvcnF7C",
        "colab_type": "code",
        "outputId": "36d04ff3-c83d-4e6b-fe91-228e9e187e61",
        "colab": {
          "base_uri": "https://localhost:8080/",
          "height": 71
        }
      },
      "source": [
        "#Average precision-recall score\n",
        "from sklearn.metrics import average_precision_score\n",
        "average_prec_recall_t = average_precision_score(y_pred_t_onehot_enc, y_true__onehot_enc)\n",
        "average_prec_recall_v = average_precision_score(y_pred_v_onehot_enc, y_true__onehot_enc)\n",
        "\n",
        "print('Average precision-recall score with TextBlob prediction: {0:.2f}'.format(average_prec_recall_t))\n",
        "print('Average precision-recall score with Vader prediction: {0:.2f}'.format(average_prec_recall_v))"
      ],
      "execution_count": 36,
      "outputs": [
        {
          "output_type": "stream",
          "text": [
            "Average precision-recall score with TextBlob prediction: 0.42\n",
            "Average precision-recall score with Vader prediction: 0.42\n"
          ],
          "name": "stdout"
        }
      ]
    },
    {
      "cell_type": "code",
      "metadata": {
        "id": "WNStAZ-WnF7E",
        "colab_type": "code",
        "outputId": "2a10e212-d5a7-43f4-8d35-7a9004507a0b",
        "colab": {
          "base_uri": "https://localhost:8080/",
          "height": 370
        }
      },
      "source": [
        "from sklearn.metrics import precision_recall_curve\n",
        "precision_recall_curve(y_true__onehot_enc, y_pred_t_onehot_enc)\n",
        "\n",
        "#ValueError: multilabel-indicator format is not supported => to be corrected? "
      ],
      "execution_count": 37,
      "outputs": [
        {
          "output_type": "error",
          "ename": "ValueError",
          "evalue": "ignored",
          "traceback": [
            "\u001b[0;31m---------------------------------------------------------------------------\u001b[0m",
            "\u001b[0;31mValueError\u001b[0m                                Traceback (most recent call last)",
            "\u001b[0;32m<ipython-input-37-8f26868210a2>\u001b[0m in \u001b[0;36m<module>\u001b[0;34m()\u001b[0m\n\u001b[1;32m      1\u001b[0m \u001b[0;32mfrom\u001b[0m \u001b[0msklearn\u001b[0m\u001b[0;34m.\u001b[0m\u001b[0mmetrics\u001b[0m \u001b[0;32mimport\u001b[0m \u001b[0mprecision_recall_curve\u001b[0m\u001b[0;34m\u001b[0m\u001b[0;34m\u001b[0m\u001b[0m\n\u001b[0;32m----> 2\u001b[0;31m \u001b[0mprecision_recall_curve\u001b[0m\u001b[0;34m(\u001b[0m\u001b[0my_true__onehot_enc\u001b[0m\u001b[0;34m,\u001b[0m \u001b[0my_pred_t_onehot_enc\u001b[0m\u001b[0;34m)\u001b[0m\u001b[0;34m\u001b[0m\u001b[0;34m\u001b[0m\u001b[0m\n\u001b[0m\u001b[1;32m      3\u001b[0m \u001b[0;34m\u001b[0m\u001b[0m\n\u001b[1;32m      4\u001b[0m \u001b[0;31m#ValueError: multilabel-indicator format is not supported => to be corrected?\u001b[0m\u001b[0;34m\u001b[0m\u001b[0;34m\u001b[0m\u001b[0;34m\u001b[0m\u001b[0m\n",
            "\u001b[0;32m/usr/local/lib/python3.6/dist-packages/sklearn/metrics/ranking.py\u001b[0m in \u001b[0;36mprecision_recall_curve\u001b[0;34m(y_true, probas_pred, pos_label, sample_weight)\u001b[0m\n\u001b[1;32m    522\u001b[0m     fps, tps, thresholds = _binary_clf_curve(y_true, probas_pred,\n\u001b[1;32m    523\u001b[0m                                              \u001b[0mpos_label\u001b[0m\u001b[0;34m=\u001b[0m\u001b[0mpos_label\u001b[0m\u001b[0;34m,\u001b[0m\u001b[0;34m\u001b[0m\u001b[0;34m\u001b[0m\u001b[0m\n\u001b[0;32m--> 524\u001b[0;31m                                              sample_weight=sample_weight)\n\u001b[0m\u001b[1;32m    525\u001b[0m \u001b[0;34m\u001b[0m\u001b[0m\n\u001b[1;32m    526\u001b[0m     \u001b[0mprecision\u001b[0m \u001b[0;34m=\u001b[0m \u001b[0mtps\u001b[0m \u001b[0;34m/\u001b[0m \u001b[0;34m(\u001b[0m\u001b[0mtps\u001b[0m \u001b[0;34m+\u001b[0m \u001b[0mfps\u001b[0m\u001b[0;34m)\u001b[0m\u001b[0;34m\u001b[0m\u001b[0;34m\u001b[0m\u001b[0m\n",
            "\u001b[0;32m/usr/local/lib/python3.6/dist-packages/sklearn/metrics/ranking.py\u001b[0m in \u001b[0;36m_binary_clf_curve\u001b[0;34m(y_true, y_score, pos_label, sample_weight)\u001b[0m\n\u001b[1;32m    394\u001b[0m     if not (y_type == \"binary\" or\n\u001b[1;32m    395\u001b[0m             (y_type == \"multiclass\" and pos_label is not None)):\n\u001b[0;32m--> 396\u001b[0;31m         \u001b[0;32mraise\u001b[0m \u001b[0mValueError\u001b[0m\u001b[0;34m(\u001b[0m\u001b[0;34m\"{0} format is not supported\"\u001b[0m\u001b[0;34m.\u001b[0m\u001b[0mformat\u001b[0m\u001b[0;34m(\u001b[0m\u001b[0my_type\u001b[0m\u001b[0;34m)\u001b[0m\u001b[0;34m)\u001b[0m\u001b[0;34m\u001b[0m\u001b[0;34m\u001b[0m\u001b[0m\n\u001b[0m\u001b[1;32m    397\u001b[0m \u001b[0;34m\u001b[0m\u001b[0m\n\u001b[1;32m    398\u001b[0m     \u001b[0mcheck_consistent_length\u001b[0m\u001b[0;34m(\u001b[0m\u001b[0my_true\u001b[0m\u001b[0;34m,\u001b[0m \u001b[0my_score\u001b[0m\u001b[0;34m,\u001b[0m \u001b[0msample_weight\u001b[0m\u001b[0;34m)\u001b[0m\u001b[0;34m\u001b[0m\u001b[0;34m\u001b[0m\u001b[0m\n",
            "\u001b[0;31mValueError\u001b[0m: multilabel-indicator format is not supported"
          ]
        }
      ]
    },
    {
      "cell_type": "markdown",
      "metadata": {
        "colab_type": "text",
        "id": "TlYvHfjAJ8Xs"
      },
      "source": [
        "#### 5.2.4) Scatter classification plot\n",
        "TO DO: explain it\n",
        " - **Color:** Actual value `tweets[\"airline_sentiment\"]`\n",
        " - **Size:** Total number of followers `tweets[\"Followers\"]`\n",
        " - **X axes:** polarity computed by Textblob `tweets[\"polarity_Textblob\"]`\n",
        " - **Y axes:**  = polarity computed by Valder `tweets[\"polarity_Valder\"]`"
      ]
    },
    {
      "cell_type": "code",
      "metadata": {
        "colab_type": "code",
        "id": "GI49gLm24Ymi",
        "colab": {}
      },
      "source": [
        "# Another way to visualize the error predicted by both methods, size dots = # followers\n",
        "X = tweets[\"polarity_Textblob\"]\n",
        "y = tweets[\"polarity_Valder\"]\n",
        "followers = tweets[\"Followers\"]\n",
        "s = []\n",
        "for t in followers:\n",
        "  if t < 100:\n",
        "    s.append(1)\n",
        "  elif t < 500:\n",
        "    s.append(5)\n",
        "  elif t < 1500:\n",
        "    s.append(8)\n",
        "  elif t < 5000:\n",
        "    s.append(20)\n",
        "  else:\n",
        "    s.append(200)\n",
        "\n",
        "def scatter_plot(lst):\n",
        "    cols=[]\n",
        "    for l in lst:\n",
        "        if l=='negative':\n",
        "            cols.append('red')\n",
        "        elif l=='neutral':\n",
        "            cols.append('blue')\n",
        "        else:\n",
        "            cols.append('green')\n",
        "    return cols\n",
        "\n",
        "colors = scatter_plot(tweets[\"airline_sentiment\"])\n",
        "size = 5000\n",
        "plt.figure(figsize=(15,10))\n",
        "plt.scatter(X[:size], y[:size], c = colors[:size], edgecolors='k', s = s[:size])\n",
        "plt.ylabel('VALDER Polarity')\n",
        "plt.xlabel('TEXTBLOB Polarity')"
      ],
      "execution_count": 0,
      "outputs": []
    },
    {
      "cell_type": "markdown",
      "metadata": {
        "colab_type": "text",
        "id": "NyxKpKAjMnOh"
      },
      "source": [
        "#### 5.2.5) The Major Matrix\n",
        "The **Major Matrix** enables to store all the tweets wronlgy classified in the first attempt.\n",
        "\n",
        "$$ \\ \\ \\ \\ \\ \\ \\ \\ \\ \\ \\ \\ \\ \\ \\ \\ \\ \\ \\ \\ \\ \\ \\ \\ \\ Predicted \\ \\ Value $$\n",
        "$$ Actual \\ \\ Value \\  \\begin{pmatrix}\n",
        "0 & (5) \\ a_{pos}\\_p_{neu} & (2) \\ a_{pos}\\_p_{neg}\\\\\n",
        "(3) \\ a_{neu}\\_p_{pos} & 0 & (6) \\ a_{neu}\\_p_{neg}\\\\\n",
        "(1) \\ a_{neg}\\_p_{pos} & (4) \\ a_{neg}\\_p_{neu} & 0\\\\\n",
        "\\end{pmatrix}$$\n",
        "\n"
      ]
    },
    {
      "cell_type": "code",
      "metadata": {
        "colab_type": "code",
        "id": "Xv5XoD7GPDGh",
        "colab": {}
      },
      "source": [
        "# Defining the predicted and actual values\n",
        "pred_TBlob = tweets[\"polarity_Textblob\"]\n",
        "pred_Vlder = tweets[\"polarity_Valder\"]\n",
        "act_sent = tweets[[\"airline_sentiment\",\"text\"]]"
      ],
      "execution_count": 0,
      "outputs": []
    },
    {
      "cell_type": "code",
      "metadata": {
        "id": "9tXg-4GPSKr3",
        "colab_type": "code",
        "colab": {}
      },
      "source": [
        "# Detecting and storing the incorrect tweets\n",
        "def incorrect_predicted_tweets(actual_sentiment, predicted_sentiment):\n",
        "  df = []\n",
        "  for i in range(len(pred_Vlder)):\n",
        "    if predicted_sentiment == \"positive\":\n",
        "        if pred_Vlder[i] > 0 and act_sent.iloc[i,0] == actual_sentiment:\n",
        "          df.append(act_sent.iloc[i,1])  \n",
        "    elif predicted_sentiment == \"neutral\":\n",
        "        if pred_Vlder[i]  == 0 and act_sent.iloc[i,0] == actual_sentiment:\n",
        "          df.append(act_sent.iloc[i,1]) \n",
        "    else:   \n",
        "      if pred_Vlder[i] < 0 and act_sent.iloc[i,0] == actual_sentiment:\n",
        "        df.append(act_sent.iloc[i,1])\n",
        "  return df"
      ],
      "execution_count": 0,
      "outputs": []
    },
    {
      "cell_type": "code",
      "metadata": {
        "colab_type": "code",
        "id": "GFRV90DTPOxL",
        "colab": {}
      },
      "source": [
        "# Applying the incorrect_predicted_tweets formula for each type of error:\n",
        "actual_predicted = {\"aneu_ppos\": [\"neutral\", \"positive\"], \n",
        "                    \"aneg_pneu\" : [\"negative\", \"neutral\"], \n",
        "                    \"apos_pneu\" : [\"positive\", \"neutral\"], \n",
        "                    \"aneu_pneg\" : [\"neutral\", \"negative\"], \n",
        "                    \"aneg_ppos\" : [\"negative\", \"positive\"], \n",
        "                    \"apos_pneg\" : [\"positive\", \"negative\"]}\n",
        "\n",
        "wrong_tweets = {}\n",
        "for key in actual_predicted:\n",
        "  wrong_tweets[key] = incorrect_predicted_tweets(actual_predicted[key][0],actual_predicted[key][1])\n",
        "\n",
        "# Creating a DataFrame for each tweet wrongly classified\n",
        "df_wrong_tweets = pd.DataFrame(dict([ (k,pd.Series(v)) for k,v in wrong_tweets.items() ]))"
      ],
      "execution_count": 0,
      "outputs": []
    },
    {
      "cell_type": "markdown",
      "metadata": {
        "colab_type": "text",
        "id": "T3EwFZCiPUJF"
      },
      "source": [
        "If the reader wants to verify if the **`incorrect_predicted_tweets`** where correctly stored in the **Major Matrix** he can run the code below:\n",
        "```python\n",
        "print(len(df_wrong_tweets[\"apos_pneg\"].dropna())) \n",
        "print(len(df_wrong_tweets[\"aneu_pneg\"].dropna()))\n",
        "print(len(df_wrong_tweets[\"apos_pneu\"].dropna()))\n",
        "print(len(df_wrong_tweets[\"aneg_pneu\"].dropna()))\n",
        "print(len(df_wrong_tweets[\"aneu_ppos\"].dropna()))\n",
        "print(len(df_wrong_tweets[\"aneg_ppos\"].dropna()))\n",
        "```\n",
        "\n",
        "You will find that the lenght of each type of error is equal to the confusion matrix when is not normalized. For instance, The first line of code is equal to 78, which corresponds a **True value = positve** and **Predicted value = negative**"
      ]
    },
    {
      "cell_type": "markdown",
      "metadata": {
        "colab_type": "text",
        "id": "fO05YOwmQIQw"
      },
      "source": [
        "#### 5.2.6) The error types "
      ]
    },
    {
      "cell_type": "markdown",
      "metadata": {
        "colab_type": "text",
        "id": "0aimKxx9lvrK"
      },
      "source": [
        "###### Error (1): *apos_pneg*\n",
        "Tweets where the actual value is positive but Valder classified as negative:\n",
        "\n",
        "> **Green dots ubicated in y < 0 in the Scatter calssification plot** \n",
        "\n",
        "**Spoiler!** TextBlob does not distinguish sarcasm or irony and have serious problems when have to classify *ambiguous words* such as \"killed\".\n",
        "\n",
        "*Other examples:*\n",
        "* less painful\n",
        "* obsessed with\n",
        "* it was absurd\n",
        "* freaked me out\n",
        "* fixed the broken ramp\n",
        "* \"*We left iPad in a seat pocket.  Filed lost item report. Received it exactly 1 week Late Flightr.  Is that a record?  #unbelievable*\"\n",
        "\n",
        "However, this is not a significant problem since represents de 1% of the total tweets...\n",
        "\n",
        "---"
      ]
    },
    {
      "cell_type": "code",
      "metadata": {
        "colab_type": "code",
        "id": "bg7BG1TnQt9Z",
        "colab": {
          "base_uri": "https://localhost:8080/",
          "height": 120
        },
        "outputId": "bbd473c9-b5d9-4c2b-bfd6-e0438b449dae"
      },
      "source": [
        "for apos_pneg in df_wrong_tweets[\"apos_pneg\"][0:5]:\n",
        "  print(apos_pneg)"
      ],
      "execution_count": 71,
      "outputs": [
        {
          "output_type": "stream",
          "text": [
            "@virginamerica Well, I didn't…but NOW I DO! :-D\n",
            "@VirginAmerica So excited for my first cross country flight LAX to MCO I've heard nothing but great things about Virgin America. #29DaysToGo\n",
            "@VirginAmerica come back to #PHL already. We need you to take us out of this horrible cold. #pleasecomeback http://t.co/gLXFwP6nQH\n",
            "@VirginAmerica twitter team. you guys killed it for rescheduling me asap. thank you!\n",
            "@united he has no priority and Iove it\n"
          ],
          "name": "stdout"
        }
      ]
    },
    {
      "cell_type": "markdown",
      "metadata": {
        "colab_type": "text",
        "id": "DvRtJznDEX9u"
      },
      "source": [
        "##### Error (2): *aneg_ppos*\n",
        "\n",
        "(ii) Tweets where the actual value is negative but Valder classified as positive:\n",
        "\n",
        "> **Red dots in the previous graph ubicated in y > 0** \n",
        "\n",
        "This is an important issue since 18% of total decisions using either the Textblob or Valder are made wrongly."
      ]
    },
    {
      "cell_type": "markdown",
      "metadata": {
        "colab_type": "text",
        "id": "cgn_Yzr-Ftx1"
      },
      "source": [
        "As we can observed in the printed tweeets from above, the TextBlob and Valder methods don't weight properly the words in the tweet. Let's take an example to understand what really is happening:"
      ]
    },
    {
      "cell_type": "code",
      "metadata": {
        "colab_type": "code",
        "id": "yE3ol88RRsOz",
        "colab": {
          "base_uri": "https://localhost:8080/",
          "height": 120
        },
        "outputId": "c7601ad3-1016-47ac-8fc5-22c58f4ea07e"
      },
      "source": [
        "for aneg_ppos in df_wrong_tweets[\"aneg_ppos\"][0:5]:\n",
        "  print(aneg_ppos)"
      ],
      "execution_count": 72,
      "outputs": [
        {
          "output_type": "stream",
          "text": [
            "@VirginAmerica  I flew from NYC to SFO last week and couldn't fully sit in my seat due to two large gentleman on either side of me. HELP!\n",
            "@united Usually an issue with Express our of SFO. Positive note: Mainline p.s. was enjoyable.\n",
            "@VirginAmerica soooo are you guys going to leave the seatbelt light on all flight? You can barely call this turbulence :-)\n",
            "@VirginAmerica amazing to me that we can't get any cold air from the vents. #VX358 #noair #worstflightever #roasted #SFOtoBOS\n",
            "@VirginAmerica help, left expensive headphones on flight 89 IAD to LAX today. Seat 2A. No one answering L&amp;F number at LAX!\n"
          ],
          "name": "stdout"
        }
      ]
    },
    {
      "cell_type": "code",
      "metadata": {
        "colab_type": "code",
        "id": "U5XWzDw4-Fhu",
        "colab": {}
      },
      "source": [
        "# Understanding the problem of Hastags\n",
        "tweets_sample = (\"moved my seat with no notice. Better seat is cabin select not behind the row I selected👎 #DISAPPOINTED\",\n",
        "                 \"moved my seat with no notice. Better seat is cabin select not behind the row I selected👎 DISAPPOINTED\", \n",
        "                 \"why can't we book seats on your flights when we buy them or even during check in? Creates so much anxiety! #frustrated\",\n",
        "                 \"why can't we book seats on your flights when we buy them or even during check in? Creates so much anxiety! frustrated\")\n",
        "\n",
        "# Computing the Valder polarity when \"#\" is removed:\n",
        "print(sentiment_analysis(tweets_sample)[\"compound\"])"
      ],
      "execution_count": 0,
      "outputs": []
    },
    {
      "cell_type": "markdown",
      "metadata": {
        "colab_type": "text",
        "id": "q67kToIXSuDi"
      },
      "source": [
        "##### Error (3): *aneu_ppos*\n"
      ]
    },
    {
      "cell_type": "code",
      "metadata": {
        "colab_type": "code",
        "id": "sgC9cch2UioE",
        "colab": {
          "base_uri": "https://localhost:8080/",
          "height": 120
        },
        "outputId": "a4d094dc-3e68-485f-f82b-1732c447a59f"
      },
      "source": [
        "for aneu_ppos in df_wrong_tweets[\"aneu_ppos\"][0:5]:\n",
        "  print(aneu_ppos)"
      ],
      "execution_count": 73,
      "outputs": [
        {
          "output_type": "stream",
          "text": [
            "@VirginAmerica Really missed a prime opportunity for Men Without Hats parody, there. https://t.co/mWpG7grEZP\n",
            "@VirginAmerica do you miss me? Don't worry we'll be together very soon.\n",
            "Nice RT @VirginAmerica: Vibe with the moodlight from takeoff to touchdown. #MoodlitMonday #ScienceBehindTheExperience http://t.co/Y7O0uNxTQP\n",
            "@VirginAmerica plz help me win my bid upgrade for my flight 2/27 LAX---&gt;SEA!!!  🍷👍💺✈️\n",
            "@VirginAmerica  DREAM http://t.co/oA2dRfAoQ2 http://t.co/lWWdAc2kHx\n"
          ],
          "name": "stdout"
        }
      ]
    },
    {
      "cell_type": "markdown",
      "metadata": {
        "colab_type": "text",
        "id": "EQBN2U1wTCTy"
      },
      "source": [
        "##### Error (4): *aneg_pneu*\n"
      ]
    },
    {
      "cell_type": "code",
      "metadata": {
        "colab_type": "code",
        "id": "O22WGPYvUotG",
        "colab": {
          "base_uri": "https://localhost:8080/",
          "height": 120
        },
        "outputId": "66ea3355-dac1-42b8-a8d8-e815608f6676"
      },
      "source": [
        "for aneg_pneu in df_wrong_tweets[\"aneg_pneu\"][0:5]:\n",
        "  print(aneg_pneu)"
      ],
      "execution_count": 74,
      "outputs": [
        {
          "output_type": "stream",
          "text": [
            "@VirginAmerica why are your first fares in May over three times more than other carriers when all seats are available to select???\n",
            "@VirginAmerica I called a 3-4 weeks ago about adding 3 flights from 2014 to my Elevate...they still haven't shown up...help!\n",
            "@VirginAmerica Hi, Virgin! I'm on hold for 40-50 minutes -- are there any earlier flights from LA to NYC tonight; earlier than 11:50pm?\n",
            "@virginamerica how's a direct flight FLL-&gt;SFO have unexpected layover in Vegas 4 fuel yet peeps next to me bought for Vegas flight. #sneaky\n",
            "@VirginAmerica I’m having trouble adding this flight my wife booked to my Elevate account. Help? http://t.co/pX8hQOKS3R\n"
          ],
          "name": "stdout"
        }
      ]
    },
    {
      "cell_type": "markdown",
      "metadata": {
        "colab_type": "text",
        "id": "5RGFzEufTHxn"
      },
      "source": [
        "##### Error (5): *apos_pneu*\n"
      ]
    },
    {
      "cell_type": "code",
      "metadata": {
        "colab_type": "code",
        "id": "Ut8By_b2UugB",
        "colab": {
          "base_uri": "https://localhost:8080/",
          "height": 120
        },
        "outputId": "ae9ac2a0-11bb-42ea-a220-dd85c006db60"
      },
      "source": [
        "for apos_pneu in df_wrong_tweets[\"apos_pneu\"][0:5]:\n",
        "  print(apos_pneu)"
      ],
      "execution_count": 75,
      "outputs": [
        {
          "output_type": "stream",
          "text": [
            "@VirginAmerica plus you've added commercials to the experience... tacky.\n",
            "@VirginAmerica @virginmedia I'm flying your #fabulous #Seductive skies again! U take all the #stress away from travel http://t.co/ahlXHhKiyn\n",
            "I ❤️ flying @VirginAmerica. ☺️👍\n",
            "@VirginAmerica View of downtown Los Angeles, the Hollywood Sign, and beyond that rain in the mountains! http://t.co/Dw5nf0ibtr\n",
            "@VirginAmerica you know it. Need it on my spotify stat #guiltypleasures\n"
          ],
          "name": "stdout"
        }
      ]
    },
    {
      "cell_type": "markdown",
      "metadata": {
        "colab_type": "text",
        "id": "DhfiD2zmTNew"
      },
      "source": [
        "##### Error (6): *aneu_pneg*\n"
      ]
    },
    {
      "cell_type": "code",
      "metadata": {
        "colab_type": "code",
        "id": "rEjnie2GU0_8",
        "colab": {
          "base_uri": "https://localhost:8080/",
          "height": 120
        },
        "outputId": "309228de-1c95-4c1c-d67b-9b9ac416c38e"
      },
      "source": [
        "for aneu_pneg in df_wrong_tweets[\"aneu_pneg\"][0:5]:\n",
        "  print(aneu_pneg)"
      ],
      "execution_count": 76,
      "outputs": [
        {
          "output_type": "stream",
          "text": [
            "@VirginAmerica will you be making BOS&gt;LAS non stop permanently anytime soon?\n",
            "@VirginAmerica LAX to EWR - Middle seat on a red eye. Such a noob maneuver. #sendambien #andchexmix\n",
            "@VirginAmerica Is flight 769 on it's way? Was supposed to take off 30 minutes ago. Website still shows \"On Time\" not \"In Flight\". Thanks.\n",
            "@VirginAmerica @LadyGaga @CarrieUnderwood Sorry, Mary Martin had it first!\n",
            "@VirginAmerica Flight 0736 DAL to DCA 2/24 2:10pm. Tried to check in could not. Status please.\n"
          ],
          "name": "stdout"
        }
      ]
    },
    {
      "cell_type": "markdown",
      "metadata": {
        "colab_type": "text",
        "id": "sYZM3LlmGyw1"
      },
      "source": [
        "The columns we need to focus are:\n",
        "-  `polarity` which is the sentiment analysis using Textblob.\n",
        "-  `compound` which is the sentiment analysis using Valder.\n",
        "\n",
        "The lecturer will have noticed that when we have a *hastag* both methods do not take into account the word - i.e. *disappointed* and *frustrated*\n",
        "\n",
        "This are one of the multiple problems that we want to solve. For that, in the next section we will try to apply the **N-GRAMS** approach. To do that, we need, first of all to tokenize the whole bunch of tweets.\n",
        "\n",
        "---\n",
        "TO DO: \n",
        "- Split hastags, specially the # with the word\n",
        "- Intesify words: joke, help, wait, delayed, luggage, suitcase, turbulence"
      ]
    },
    {
      "cell_type": "markdown",
      "metadata": {
        "colab_type": "text",
        "id": "GU_wp1pSWlSn"
      },
      "source": [
        "### 5.3) Reclassification"
      ]
    },
    {
      "cell_type": "markdown",
      "metadata": {
        "colab_type": "text",
        "id": "MEqarACYPeWA"
      },
      "source": [
        "Here an example where the first 200 tweets from the dataframe `tweets` are filtered.\n"
      ]
    },
    {
      "cell_type": "markdown",
      "metadata": {
        "colab_type": "text",
        "id": "gE2lWrfLTLKR"
      },
      "source": [
        "Having saw that now we want to increase the accuracy of TextBlob and Valder using the N-GRAMS. The **`ngrams`** function compute `bigrams = 2-grams` and `trigrams = 3-grams`."
      ]
    },
    {
      "cell_type": "code",
      "metadata": {
        "colab_type": "code",
        "id": "X7OVViyQDmk1",
        "colab": {}
      },
      "source": [
        "def ngrams(input_list):\n",
        "    #onegrams = input_list\n",
        "    bigrams = [' '.join(t) for t in list(zip(input_list, input_list[1:]))]\n",
        "    trigrams = [' '.join(t) for t in list(zip(input_list, input_list[1:], input_list[2:]))]\n",
        "    return bigrams + trigrams\n"
      ],
      "execution_count": 0,
      "outputs": []
    },
    {
      "cell_type": "markdown",
      "metadata": {
        "colab_type": "text",
        "id": "7SAqTuQsXHHt"
      },
      "source": [
        "Here an example with the apos_pneg tweets. We'll see that we improve 33% from our previous rate we had before."
      ]
    },
    {
      "cell_type": "code",
      "metadata": {
        "colab_type": "code",
        "id": "FtX3dib0FZaO",
        "colab": {}
      },
      "source": [
        "# Before computing the ngrams function we need to tockenized the tweet\n",
        "apos_pneg_tockenized = tokenization_tweets(apos_pneg)\n",
        "apos_pneg_ngrams = []\n",
        "for tokens in apos_pneg_tockenized:\n",
        "  apos_pneg_ngrams.append(ngrams(tokens))"
      ],
      "execution_count": 0,
      "outputs": []
    },
    {
      "cell_type": "code",
      "metadata": {
        "colab_type": "code",
        "id": "44dqZ1D8Fwj3",
        "colab": {}
      },
      "source": [
        "# Then we join all the ngrams tockens as 1 string format\n",
        "apos_pneg_ngrams2 = []\n",
        "for tokens in apos_pneg_ngrams:\n",
        "  apos_pneg_ngrams2.append(' '.join(tokens))"
      ],
      "execution_count": 0,
      "outputs": []
    },
    {
      "cell_type": "code",
      "metadata": {
        "colab_type": "code",
        "id": "2_7uXuguQhMh",
        "colab": {
          "base_uri": "https://localhost:8080/",
          "height": 104
        },
        "outputId": "799deb02-9e4a-45ad-97ac-528c8c34f84a"
      },
      "source": [
        "# Finally we compute the sentiment_analysis using the string created before\n",
        "table = sentiment_analysis(apos_pneg_ngrams2)\n",
        "ratio_improved = sum(table[\"compound\"] > 0)/len(table[\"compound\"])\n",
        "print(\"Thanks to N_GRAMS we reclassifies {:.2%}\".format(ratio_improved) + \" of the total apos_pneg_ngrams well\")"
      ],
      "execution_count": 82,
      "outputs": [
        {
          "output_type": "stream",
          "text": [
            "   neg  neu  pos  compound  polarity  subjectivity\n",
            "0  0.0  0.0  0.0       0.0       0.0           0.0\n",
            "1  0.0  0.0  0.0       0.0       0.0           0.0\n",
            "Thanks to N_GRAMS we reclassifies 0.00% of the total apos_pneg_ngrams well\n"
          ],
          "name": "stdout"
        }
      ]
    },
    {
      "cell_type": "markdown",
      "metadata": {
        "colab_type": "text",
        "id": "bcTKf30VQzrY"
      },
      "source": [
        "#### 5.3.2) Search group function\n",
        "\n",
        "The function **`search_group_classes`** allows the user to classify tweets by passangers classes:\n",
        "\n",
        "**Context**:\n",
        "From a business perspective, the company needs to prioritize which customer needs to be replied to firstly. The idea, is to create several classes and then sort based on priority. In the ideal world, this priority will be based on ticket price but this information cannot be inferred.\n",
        "\n",
        "- The first approach is to classify into 2 classes: **business class** and **not business class** only using the tweet text (i.e.: type of words in the tweet, orthography, etc.)\n",
        "\n",
        "- The second approach is to figure out what is the scope of the tweet. For instance, if the account is verified, or the complaint is made by a very popular account (with a lot of followers) the complaint needs to be dealt quickly. *(NOT IMPLEMENTED)*\n",
        "\n",
        "**Arguments**: \n",
        "*   `airline_sentiment`: determines the sentiment analysis we want to work with. Possible values: `('positive', 'negative', 'neutral')` \n",
        "*   `list_words`: words that define the group class, i.e.`(\"business class|first class|priority|preference\")`"
      ]
    },
    {
      "cell_type": "code",
      "metadata": {
        "colab_type": "code",
        "id": "zsovQdANHnPY",
        "colab": {}
      },
      "source": [
        "def search_group_classes(airline_sentiment, list_words):\n",
        "    df_neg = (tweets[tweets['airline_sentiment'] == airline_sentiment])\n",
        "    list_tweets = df_neg[\"text\"]\n",
        "\n",
        "    output = []\n",
        "    for tweet in list_tweets:\n",
        "        if re.findall(list_words, tweet):\n",
        "            output.append(tweet)\n",
        "\n",
        "    return output"
      ],
      "execution_count": 0,
      "outputs": []
    },
    {
      "cell_type": "markdown",
      "metadata": {
        "colab_type": "text",
        "id": "MEYoNaHqTZDy"
      },
      "source": [
        "Here we want to gathered the **business class tweets** from the dataset `tweets`."
      ]
    },
    {
      "cell_type": "code",
      "metadata": {
        "colab_type": "code",
        "id": "pt-Ra9dKTFQW",
        "colab": {}
      },
      "source": [
        "business_class = (\"business class|first class|priority|preference\") # TO DO: store it in the tweets dataframe\n",
        "business_class_tweets = search_group_classes(\"negative\", business_class)\n",
        "for bc_tweet in business_class_tweets[0:10]:\n",
        "    print(bc_tweet)"
      ],
      "execution_count": 0,
      "outputs": []
    },
    {
      "cell_type": "markdown",
      "metadata": {
        "colab_type": "text",
        "id": "kPDCbj3tbgrd"
      },
      "source": [
        "### 5.4) Train, test and validation"
      ]
    },
    {
      "cell_type": "markdown",
      "metadata": {
        "colab_type": "text",
        "id": "xUEul5swb7Es"
      },
      "source": [
        "### 5.5) Model validation\n",
        " "
      ]
    },
    {
      "cell_type": "markdown",
      "metadata": {
        "colab_type": "text",
        "id": "GESw7PFKcD1V"
      },
      "source": [
        "### 5.6) Business model\n",
        "Sorting the tweets that have to be replied firstly"
      ]
    },
    {
      "cell_type": "markdown",
      "metadata": {
        "colab_type": "text",
        "id": "qiHUaQX1WBRi"
      },
      "source": [
        "### 5.7) The sentiment methods used"
      ]
    },
    {
      "cell_type": "markdown",
      "metadata": {
        "colab_type": "text",
        "id": "iCPMGSiqyPw_"
      },
      "source": [
        "#### 5.7.1) Vader\n",
        "**V**alence **A**ware **D**ictionary and s**E**ntiment **R**easoner is another popular rule-based library for sentiment analysis. Like TextBlob, it uses a sentiment lexicon that contains intensity measures for each word based on human-annotated labels. A key difference however, is that VADER was designed with a **focus on social media texts**. This means that it puts a lot of emphasis on rules that capture the essence of text typically seen on social media — for example, **short sentences with emojis**, **repetitive vocabulary** and copious use of **punctuation** (such as exclamation marks). Below are some examples of the sentiment intensity scores output by VADER."
      ]
    },
    {
      "cell_type": "code",
      "metadata": {
        "colab_type": "code",
        "id": "nSDbVwI7vL5b",
        "colab": {}
      },
      "source": [
        "valder = SentimentIntensityAnalyzer()\n",
        "print(valder.polarity_scores(\"This was the best idea I've had in a long time.\"))\n",
        "print(valder.polarity_scores(\"best idea time.\"))\n",
        "print(valder.polarity_scores(\"This was the BEST idea I've had in a long time.\"))\n",
        "print(valder.polarity_scores(\"This was the BEST idea I've had in a long time!\"))\n",
        "print(valder.polarity_scores(\"This was the BEST idea I've had in a long time!!!\"))\n",
        "print(valder.polarity_scores(\"This was the BEST, BEST idea I've had in a long time!!! :D :D\"))\n",
        "print(valder.polarity_scores(\"This was the WORST, WORST idea I've had in a long time!!! :( :(\"))"
      ],
      "execution_count": 0,
      "outputs": []
    },
    {
      "cell_type": "markdown",
      "metadata": {
        "colab_type": "text",
        "id": "xfSDDK7vVest"
      },
      "source": [
        "#### 5.7.2) TextBlob"
      ]
    },
    {
      "cell_type": "code",
      "metadata": {
        "colab_type": "code",
        "id": "z81Av1m71zLo",
        "colab": {}
      },
      "source": [
        "print(TextBlob(\"This was the best idea I've had in a long time.\").sentiment)\n",
        "print(TextBlob(\"best idea time.\").sentiment)\n",
        "print(TextBlob(\"This was the BEST idea I've had in a long time.\").sentiment)\n",
        "print(TextBlob(\"This was the BEST idea I've had in a long time!\").sentiment)\n",
        "print(TextBlob(\"This was the BEST idea I've had in a long time!!!\").sentiment)\n",
        "print(TextBlob(\"This was the BEST, BEST idea I've had in a long time!!! :D :D\").sentiment)\n",
        "print(TextBlob(\"This was the WORST, WORST idea I've had in a long time!!! :( :(\").sentiment)\n"
      ],
      "execution_count": 0,
      "outputs": []
    }
  ]
}