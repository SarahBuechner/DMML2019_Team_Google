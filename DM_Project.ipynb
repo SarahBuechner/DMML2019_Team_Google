{
 "cells": [
  {
   "cell_type": "markdown",
   "metadata": {
    "colab_type": "text",
    "id": "8QnuUmkOHzzC"
   },
   "source": [
    "## 1) PACKAGES AND LIBRARIES INSTALLATION \n",
    "(TO DO: explain why we need each package)"
   ]
  },
  {
   "cell_type": "code",
   "execution_count": 1,
   "metadata": {
    "colab": {
     "base_uri": "https://localhost:8080/",
     "height": 1000
    },
    "colab_type": "code",
    "id": "yG13UCwNclDm",
    "outputId": "16b3ebda-c3a2-4929-f5ef-a978dcd6da6a"
   },
   "outputs": [
    {
     "name": "stdout",
     "output_type": "stream",
     "text": [
      "Requirement already satisfied: plotnine[all] in /Users/Sarah/anaconda3/lib/python3.7/site-packages (0.6.0)\n",
      "Requirement already satisfied: scipy>=1.2.0 in /Users/Sarah/anaconda3/lib/python3.7/site-packages (from plotnine[all]) (1.3.0)\n",
      "Requirement already satisfied: statsmodels>=0.9.0 in /Users/Sarah/anaconda3/lib/python3.7/site-packages (from plotnine[all]) (0.10.0)\n",
      "Requirement already satisfied: pandas>=0.25.0 in /Users/Sarah/anaconda3/lib/python3.7/site-packages (from plotnine[all]) (0.25.3)\n",
      "Requirement already satisfied: patsy>=0.4.1 in /Users/Sarah/anaconda3/lib/python3.7/site-packages (from plotnine[all]) (0.5.1)\n",
      "Requirement already satisfied: descartes>=1.1.0 in /Users/Sarah/anaconda3/lib/python3.7/site-packages (from plotnine[all]) (1.1.0)\n",
      "Requirement already satisfied: matplotlib>=3.1.1 in /Users/Sarah/anaconda3/lib/python3.7/site-packages (from plotnine[all]) (3.1.2)\n",
      "Requirement already satisfied: numpy>=1.16.0 in /Users/Sarah/anaconda3/lib/python3.7/site-packages (from plotnine[all]) (1.16.4)\n",
      "Requirement already satisfied: mizani>=0.6.0 in /Users/Sarah/anaconda3/lib/python3.7/site-packages (from plotnine[all]) (0.6.0)\n",
      "Requirement already satisfied: scikit-learn; extra == \"all\" in /Users/Sarah/anaconda3/lib/python3.7/site-packages (from plotnine[all]) (0.22)\n",
      "Requirement already satisfied: scikit-misc; extra == \"all\" in /Users/Sarah/anaconda3/lib/python3.7/site-packages (from plotnine[all]) (0.1.1)\n",
      "Requirement already satisfied: pytz>=2017.2 in /Users/Sarah/anaconda3/lib/python3.7/site-packages (from pandas>=0.25.0->plotnine[all]) (2019.1)\n",
      "Requirement already satisfied: python-dateutil>=2.6.1 in /Users/Sarah/anaconda3/lib/python3.7/site-packages (from pandas>=0.25.0->plotnine[all]) (2.8.0)\n",
      "Requirement already satisfied: six in /Users/Sarah/anaconda3/lib/python3.7/site-packages (from patsy>=0.4.1->plotnine[all]) (1.12.0)\n",
      "Requirement already satisfied: pyparsing!=2.0.4,!=2.1.2,!=2.1.6,>=2.0.1 in /Users/Sarah/anaconda3/lib/python3.7/site-packages (from matplotlib>=3.1.1->plotnine[all]) (2.4.0)\n",
      "Requirement already satisfied: cycler>=0.10 in /Users/Sarah/anaconda3/lib/python3.7/site-packages (from matplotlib>=3.1.1->plotnine[all]) (0.10.0)\n",
      "Requirement already satisfied: kiwisolver>=1.0.1 in /Users/Sarah/anaconda3/lib/python3.7/site-packages (from matplotlib>=3.1.1->plotnine[all]) (1.1.0)\n",
      "Requirement already satisfied: palettable in /Users/Sarah/anaconda3/lib/python3.7/site-packages (from mizani>=0.6.0->plotnine[all]) (3.3.0)\n",
      "Requirement already satisfied: joblib>=0.11 in /Users/Sarah/anaconda3/lib/python3.7/site-packages (from scikit-learn; extra == \"all\"->plotnine[all]) (0.13.2)\n",
      "Requirement already satisfied: setuptools in /Users/Sarah/anaconda3/lib/python3.7/site-packages (from kiwisolver>=1.0.1->matplotlib>=3.1.1->plotnine[all]) (41.0.1)\n",
      "Requirement already satisfied: wordcloud in /Users/Sarah/anaconda3/lib/python3.7/site-packages (1.6.0)\n",
      "Requirement already satisfied: matplotlib in /Users/Sarah/anaconda3/lib/python3.7/site-packages (from wordcloud) (3.1.2)\n",
      "Requirement already satisfied: pillow in /Users/Sarah/anaconda3/lib/python3.7/site-packages (from wordcloud) (6.1.0)\n",
      "Requirement already satisfied: numpy>=1.6.1 in /Users/Sarah/anaconda3/lib/python3.7/site-packages (from wordcloud) (1.16.4)\n",
      "Requirement already satisfied: pyparsing!=2.0.4,!=2.1.2,!=2.1.6,>=2.0.1 in /Users/Sarah/anaconda3/lib/python3.7/site-packages (from matplotlib->wordcloud) (2.4.0)\n",
      "Requirement already satisfied: python-dateutil>=2.1 in /Users/Sarah/anaconda3/lib/python3.7/site-packages (from matplotlib->wordcloud) (2.8.0)\n",
      "Requirement already satisfied: kiwisolver>=1.0.1 in /Users/Sarah/anaconda3/lib/python3.7/site-packages (from matplotlib->wordcloud) (1.1.0)\n",
      "Requirement already satisfied: cycler>=0.10 in /Users/Sarah/anaconda3/lib/python3.7/site-packages (from matplotlib->wordcloud) (0.10.0)\n",
      "Requirement already satisfied: six>=1.5 in /Users/Sarah/anaconda3/lib/python3.7/site-packages (from python-dateutil>=2.1->matplotlib->wordcloud) (1.12.0)\n",
      "Requirement already satisfied: setuptools in /Users/Sarah/anaconda3/lib/python3.7/site-packages (from kiwisolver>=1.0.1->matplotlib->wordcloud) (41.0.1)\n",
      "Requirement already satisfied: spacy in /Users/Sarah/anaconda3/lib/python3.7/site-packages (2.2.3)\n",
      "Requirement already satisfied: murmurhash<1.1.0,>=0.28.0 in /Users/Sarah/anaconda3/lib/python3.7/site-packages (from spacy) (1.0.2)\n",
      "Requirement already satisfied: preshed<3.1.0,>=3.0.2 in /Users/Sarah/anaconda3/lib/python3.7/site-packages (from spacy) (3.0.2)\n",
      "Requirement already satisfied: blis<0.5.0,>=0.4.0 in /Users/Sarah/anaconda3/lib/python3.7/site-packages (from spacy) (0.4.1)\n",
      "Requirement already satisfied: requests<3.0.0,>=2.13.0 in /Users/Sarah/anaconda3/lib/python3.7/site-packages (from spacy) (2.22.0)\n",
      "Requirement already satisfied: thinc<7.4.0,>=7.3.0 in /Users/Sarah/anaconda3/lib/python3.7/site-packages (from spacy) (7.3.1)\n",
      "Requirement already satisfied: setuptools in /Users/Sarah/anaconda3/lib/python3.7/site-packages (from spacy) (41.0.1)\n",
      "Requirement already satisfied: plac<1.2.0,>=0.9.6 in /Users/Sarah/anaconda3/lib/python3.7/site-packages (from spacy) (1.1.3)\n",
      "Requirement already satisfied: cymem<2.1.0,>=2.0.2 in /Users/Sarah/anaconda3/lib/python3.7/site-packages (from spacy) (2.0.3)\n",
      "Requirement already satisfied: wasabi<1.1.0,>=0.4.0 in /Users/Sarah/anaconda3/lib/python3.7/site-packages (from spacy) (0.4.0)\n",
      "Requirement already satisfied: catalogue<1.1.0,>=0.0.7 in /Users/Sarah/anaconda3/lib/python3.7/site-packages (from spacy) (0.0.8)\n",
      "Requirement already satisfied: srsly<1.1.0,>=0.1.0 in /Users/Sarah/anaconda3/lib/python3.7/site-packages (from spacy) (0.2.0)\n",
      "Requirement already satisfied: numpy>=1.15.0 in /Users/Sarah/anaconda3/lib/python3.7/site-packages (from spacy) (1.16.4)\n",
      "Requirement already satisfied: urllib3!=1.25.0,!=1.25.1,<1.26,>=1.21.1 in /Users/Sarah/anaconda3/lib/python3.7/site-packages (from requests<3.0.0,>=2.13.0->spacy) (1.24.2)\n",
      "Requirement already satisfied: certifi>=2017.4.17 in /Users/Sarah/anaconda3/lib/python3.7/site-packages (from requests<3.0.0,>=2.13.0->spacy) (2019.6.16)\n",
      "Requirement already satisfied: chardet<3.1.0,>=3.0.2 in /Users/Sarah/anaconda3/lib/python3.7/site-packages (from requests<3.0.0,>=2.13.0->spacy) (3.0.4)\n",
      "Requirement already satisfied: idna<2.9,>=2.5 in /Users/Sarah/anaconda3/lib/python3.7/site-packages (from requests<3.0.0,>=2.13.0->spacy) (2.8)\n",
      "Requirement already satisfied: tqdm<5.0.0,>=4.10.0 in /Users/Sarah/anaconda3/lib/python3.7/site-packages (from thinc<7.4.0,>=7.3.0->spacy) (4.32.1)\n",
      "Requirement already satisfied: importlib-metadata>=0.20; python_version < \"3.8\" in /Users/Sarah/anaconda3/lib/python3.7/site-packages (from catalogue<1.1.0,>=0.0.7->spacy) (0.23)\n",
      "Requirement already satisfied: zipp>=0.5 in /Users/Sarah/anaconda3/lib/python3.7/site-packages (from importlib-metadata>=0.20; python_version < \"3.8\"->catalogue<1.1.0,>=0.0.7->spacy) (0.5.1)\n",
      "Requirement already satisfied: en_core_web_sm==2.2.5 from https://github.com/explosion/spacy-models/releases/download/en_core_web_sm-2.2.5/en_core_web_sm-2.2.5.tar.gz#egg=en_core_web_sm==2.2.5 in /Users/Sarah/anaconda3/lib/python3.7/site-packages (2.2.5)\n",
      "Requirement already satisfied: spacy>=2.2.2 in /Users/Sarah/anaconda3/lib/python3.7/site-packages (from en_core_web_sm==2.2.5) (2.2.3)\n",
      "Requirement already satisfied: blis<0.5.0,>=0.4.0 in /Users/Sarah/anaconda3/lib/python3.7/site-packages (from spacy>=2.2.2->en_core_web_sm==2.2.5) (0.4.1)\n",
      "Requirement already satisfied: setuptools in /Users/Sarah/anaconda3/lib/python3.7/site-packages (from spacy>=2.2.2->en_core_web_sm==2.2.5) (41.0.1)\n",
      "Requirement already satisfied: thinc<7.4.0,>=7.3.0 in /Users/Sarah/anaconda3/lib/python3.7/site-packages (from spacy>=2.2.2->en_core_web_sm==2.2.5) (7.3.1)\n",
      "Requirement already satisfied: catalogue<1.1.0,>=0.0.7 in /Users/Sarah/anaconda3/lib/python3.7/site-packages (from spacy>=2.2.2->en_core_web_sm==2.2.5) (0.0.8)\n",
      "Requirement already satisfied: numpy>=1.15.0 in /Users/Sarah/anaconda3/lib/python3.7/site-packages (from spacy>=2.2.2->en_core_web_sm==2.2.5) (1.16.4)\n",
      "Requirement already satisfied: preshed<3.1.0,>=3.0.2 in /Users/Sarah/anaconda3/lib/python3.7/site-packages (from spacy>=2.2.2->en_core_web_sm==2.2.5) (3.0.2)\n",
      "Requirement already satisfied: srsly<1.1.0,>=0.1.0 in /Users/Sarah/anaconda3/lib/python3.7/site-packages (from spacy>=2.2.2->en_core_web_sm==2.2.5) (0.2.0)\n",
      "Requirement already satisfied: requests<3.0.0,>=2.13.0 in /Users/Sarah/anaconda3/lib/python3.7/site-packages (from spacy>=2.2.2->en_core_web_sm==2.2.5) (2.22.0)\n"
     ]
    },
    {
     "name": "stdout",
     "output_type": "stream",
     "text": [
      "Requirement already satisfied: murmurhash<1.1.0,>=0.28.0 in /Users/Sarah/anaconda3/lib/python3.7/site-packages (from spacy>=2.2.2->en_core_web_sm==2.2.5) (1.0.2)\n",
      "Requirement already satisfied: cymem<2.1.0,>=2.0.2 in /Users/Sarah/anaconda3/lib/python3.7/site-packages (from spacy>=2.2.2->en_core_web_sm==2.2.5) (2.0.3)\n",
      "Requirement already satisfied: plac<1.2.0,>=0.9.6 in /Users/Sarah/anaconda3/lib/python3.7/site-packages (from spacy>=2.2.2->en_core_web_sm==2.2.5) (1.1.3)\n",
      "Requirement already satisfied: wasabi<1.1.0,>=0.4.0 in /Users/Sarah/anaconda3/lib/python3.7/site-packages (from spacy>=2.2.2->en_core_web_sm==2.2.5) (0.4.0)\n",
      "Requirement already satisfied: tqdm<5.0.0,>=4.10.0 in /Users/Sarah/anaconda3/lib/python3.7/site-packages (from thinc<7.4.0,>=7.3.0->spacy>=2.2.2->en_core_web_sm==2.2.5) (4.32.1)\n",
      "Requirement already satisfied: importlib-metadata>=0.20; python_version < \"3.8\" in /Users/Sarah/anaconda3/lib/python3.7/site-packages (from catalogue<1.1.0,>=0.0.7->spacy>=2.2.2->en_core_web_sm==2.2.5) (0.23)\n",
      "Requirement already satisfied: idna<2.9,>=2.5 in /Users/Sarah/anaconda3/lib/python3.7/site-packages (from requests<3.0.0,>=2.13.0->spacy>=2.2.2->en_core_web_sm==2.2.5) (2.8)\n",
      "Requirement already satisfied: certifi>=2017.4.17 in /Users/Sarah/anaconda3/lib/python3.7/site-packages (from requests<3.0.0,>=2.13.0->spacy>=2.2.2->en_core_web_sm==2.2.5) (2019.6.16)\n",
      "Requirement already satisfied: chardet<3.1.0,>=3.0.2 in /Users/Sarah/anaconda3/lib/python3.7/site-packages (from requests<3.0.0,>=2.13.0->spacy>=2.2.2->en_core_web_sm==2.2.5) (3.0.4)\n",
      "Requirement already satisfied: urllib3!=1.25.0,!=1.25.1,<1.26,>=1.21.1 in /Users/Sarah/anaconda3/lib/python3.7/site-packages (from requests<3.0.0,>=2.13.0->spacy>=2.2.2->en_core_web_sm==2.2.5) (1.24.2)\n",
      "Requirement already satisfied: zipp>=0.5 in /Users/Sarah/anaconda3/lib/python3.7/site-packages (from importlib-metadata>=0.20; python_version < \"3.8\"->catalogue<1.1.0,>=0.0.7->spacy>=2.2.2->en_core_web_sm==2.2.5) (0.5.1)\n",
      "\u001b[38;5;2m✔ Download and installation successful\u001b[0m\n",
      "You can now load the model via spacy.load('en_core_web_sm')\n",
      "\u001b[38;5;2m✔ Linking successful\u001b[0m\n",
      "/Users/Sarah/anaconda3/lib/python3.7/site-packages/en_core_web_sm -->\n",
      "/Users/Sarah/anaconda3/lib/python3.7/site-packages/spacy/data/en\n",
      "You can now load the model via spacy.load('en')\n",
      "Requirement already up-to-date: textblob in /Users/Sarah/anaconda3/lib/python3.7/site-packages (0.15.3)\n",
      "Requirement already satisfied, skipping upgrade: nltk>=3.1 in /Users/Sarah/anaconda3/lib/python3.7/site-packages (from textblob) (3.4.4)\n",
      "Requirement already satisfied, skipping upgrade: six in /Users/Sarah/anaconda3/lib/python3.7/site-packages (from nltk>=3.1->textblob) (1.12.0)\n",
      "[nltk_data] Downloading package brown to /Users/Sarah/nltk_data...\n",
      "[nltk_data]   Package brown is already up-to-date!\n",
      "[nltk_data] Downloading package punkt to /Users/Sarah/nltk_data...\n",
      "[nltk_data]   Package punkt is already up-to-date!\n",
      "[nltk_data] Downloading package wordnet to /Users/Sarah/nltk_data...\n",
      "[nltk_data]   Package wordnet is already up-to-date!\n",
      "[nltk_data] Downloading package averaged_perceptron_tagger to\n",
      "[nltk_data]     /Users/Sarah/nltk_data...\n",
      "[nltk_data]   Package averaged_perceptron_tagger is already up-to-\n",
      "[nltk_data]       date!\n",
      "[nltk_data] Downloading package conll2000 to /Users/Sarah/nltk_data...\n",
      "[nltk_data]   Package conll2000 is already up-to-date!\n",
      "[nltk_data] Downloading package movie_reviews to\n",
      "[nltk_data]     /Users/Sarah/nltk_data...\n",
      "[nltk_data]   Package movie_reviews is already up-to-date!\n",
      "Finished.\n",
      "Requirement already satisfied: vaderSentiment in /Users/Sarah/anaconda3/lib/python3.7/site-packages (3.2.1)\n"
     ]
    }
   ],
   "source": [
    "!pip install 'plotnine[all]'\n",
    "!pip install wordcloud\n",
    "!pip install spacy\n",
    "!python -m spacy download en\n",
    "!pip install -U textblob\n",
    "!python -m textblob.download_corpora\n",
    "!pip install vaderSentiment"
   ]
  },
  {
   "cell_type": "code",
   "execution_count": 2,
   "metadata": {
    "colab": {},
    "colab_type": "code",
    "id": "g6sPoD9R6BA-"
   },
   "outputs": [],
   "source": [
    "import pandas as pd\n",
    "import numpy as np\n",
    "from plotnine import *\n",
    "import matplotlib.pyplot as plt\n",
    "import seaborn as sns\n",
    "from wordcloud import WordCloud,STOPWORDS\n",
    "import re\n",
    "from spacy.lang.en import English\n",
    "from textblob import TextBlob\n",
    "from vaderSentiment.vaderSentiment import SentimentIntensityAnalyzer\n",
    "from sklearn.metrics import confusion_matrix\n",
    "from sklearn.utils.multiclass import unique_labels\n",
    "from nltk import ngrams\n",
    "import itertools"
   ]
  },
  {
   "cell_type": "markdown",
   "metadata": {
    "colab_type": "text",
    "id": "wW0wu1W-IK9R"
   },
   "source": [
    "## 2) DATABASE\n",
    "`tweets` is our **main dataset**, the other ones are not used by the moment."
   ]
  },
  {
   "cell_type": "code",
   "execution_count": 3,
   "metadata": {
    "colab": {},
    "colab_type": "code",
    "id": "bfbTTsDrwKqD"
   },
   "outputs": [],
   "source": [
    "# The dataset from Kaggle:\n",
    "tweets = pd.read_csv(\"https://raw.githubusercontent.com/SarahBuechner/DMML2019_Team_Google/master/Database/Tweets.csv\")\n",
    "AAL = pd.read_csv(\"https://raw.githubusercontent.com/SarahBuechner/DMML2019_Team_Google/master/Database/AAL.csv\")\n",
    "DAL = pd.read_csv(\"https://raw.githubusercontent.com/SarahBuechner/DMML2019_Team_Google/master/Database/DAL.csv\")\n",
    "LUV = pd.read_csv(\"https://raw.githubusercontent.com/SarahBuechner/DMML2019_Team_Google/master/Database/LUV.csv\")\n",
    "UAL = pd.read_csv(\"https://raw.githubusercontent.com/SarahBuechner/DMML2019_Team_Google/master/Database/UAL.csv\")\n",
    "# TO DO: Add the followers and verified"
   ]
  },
  {
   "cell_type": "code",
   "execution_count": 4,
   "metadata": {
    "colab": {
     "base_uri": "https://localhost:8080/",
     "height": 368
    },
    "colab_type": "code",
    "id": "SXw8yjGa5Zpd",
    "outputId": "0ea8f5f6-ca39-48a3-9dc6-84525f223cfb"
   },
   "outputs": [
    {
     "name": "stdout",
     "output_type": "stream",
     "text": [
      "(12265, 18)\n",
      "Unnamed: 0                        int64\n",
      "tweet_id                          int64\n",
      "airline_sentiment                object\n",
      "airline_sentiment_confidence    float64\n",
      "negativereason                   object\n",
      "negativereason_confidence       float64\n",
      "airline                          object\n",
      "airline_sentiment_gold           object\n",
      "name                             object\n",
      "negativereason_gold              object\n",
      "retweet_count                     int64\n",
      "text                             object\n",
      "tweet_coord                      object\n",
      "tweet_created                    object\n",
      "tweet_location                   object\n",
      "user_timezone                    object\n",
      "Followers                         int64\n",
      "Verified                           bool\n",
      "dtype: object\n"
     ]
    }
   ],
   "source": [
    "# Dataframe tweets shape\n",
    "print(tweets.shape)\n",
    "\n",
    "# Data types\n",
    "print(tweets.dtypes)"
   ]
  },
  {
   "cell_type": "markdown",
   "metadata": {
    "colab_type": "text",
    "id": "rl6vo90xIrOC"
   },
   "source": [
    "## 3) DATA CLEANING\n",
    "*May be we can include here the data cleaning from Machine Learning section*"
   ]
  },
  {
   "cell_type": "code",
   "execution_count": 9,
   "metadata": {
    "colab": {},
    "colab_type": "code",
    "id": "o6IQhbaED2PD"
   },
   "outputs": [],
   "source": [
    "# Drop the columns we don't use\n",
    "tweets = tweets.drop(columns=['airline_sentiment_gold', 'negativereason_gold', 'tweet_coord', 'user_timezone'])\n",
    "\n",
    "# Converting tweet_created to datetime\n",
    "tweets['tweet_created'] = pd.to_datetime(tweets['tweet_created'])"
   ]
  },
  {
   "cell_type": "markdown",
   "metadata": {
    "colab_type": "text",
    "id": "BjEgMqeMI179"
   },
   "source": [
    "## 4) EXPLORATORY DATA ANALYSIS"
   ]
  },
  {
   "cell_type": "markdown",
   "metadata": {
    "colab_type": "text",
    "id": "mSKLgY3mI5dk"
   },
   "source": [
    "### 4.1) Sentiment Analysis by Airline\n",
    "We want to visualize the **distribution sentiment analysis by company**.\n"
   ]
  },
  {
   "cell_type": "code",
   "execution_count": 6,
   "metadata": {
    "colab": {
     "base_uri": "https://localhost:8080/",
     "height": 910
    },
    "colab_type": "code",
    "id": "QbRKTVBvWCtz",
    "outputId": "8724cc4b-6eb9-4819-847c-9e15b615ca08"
   },
   "outputs": [
    {
     "name": "stdout",
     "output_type": "stream",
     "text": [
      "The most common class is negative mood = 63.66%\n"
     ]
    },
    {
     "data": {
      "image/png": "[encoded data removed]",
      "text/plain": [
       "<Figure size 864x864 with 6 Axes>"
      ]
     },
     "metadata": {
      "needs_background": "light"
     },
     "output_type": "display_data"
    }
   ],
   "source": [
    "def sentiment_by_airline(Airline):\n",
    "  df=tweets[tweets['airline']==Airline]\n",
    "  count=df['airline_sentiment'].value_counts()\n",
    "  Index = [1,2,3]\n",
    "  plt.bar(Index,count,color=['darkred', 'darkblue', 'darkgreen'])\n",
    "  plt.xticks(Index,['Negative','Neutral','Positive'])\n",
    "  plt.ylabel('Number of tweets')\n",
    "  plt.xlabel('Mood')\n",
    "  plt.title(Airline)\n",
    "  plt.ylim(0,3000)\n",
    "  plt.grid(which='major', linestyle=':', linewidth='0.5', color='grey')\n",
    "\n",
    "airlines = [\"American\", \"Delta\", \"Southwest\", \"US Airways\", \"United\", \"Virgin America\"]\n",
    "plt.figure(1,figsize=(12, 12))\n",
    "\n",
    "\n",
    "for airline in airlines:\n",
    "  plt.subplot(231 + airlines.index(airline))\n",
    "  sentiment_by_airline(airline)\n",
    "plt.tight_layout()\n",
    "\n",
    "count=tweets['airline_sentiment'].value_counts()\n",
    "print(\"The most common class is negative mood = \"+\"{:.2%}\".format(count[0]/sum(count[0:3])))\n"
   ]
  },
  {
   "cell_type": "markdown",
   "metadata": {
    "colab_type": "text",
    "id": "GMC4HowyJJOK"
   },
   "source": [
    "### 4.2) Negative Reason by Airline\n",
    "In the previous graph we saw that the most common class was the *Negative mood*. Now we want to visualize the **negative ratings clustered on topics**."
   ]
  },
  {
   "cell_type": "code",
   "execution_count": 7,
   "metadata": {
    "colab": {
     "base_uri": "https://localhost:8080/",
     "height": 993
    },
    "colab_type": "code",
    "id": "CkQZt7Wdg_TR",
    "outputId": "e8d0882c-508e-49a1-bf1c-385034f3cf2b"
   },
   "outputs": [
    {
     "name": "stdout",
     "output_type": "stream",
     "text": [
      "The 3 main negative topics of American are: (1) Customer Service Issue, (2) Cancelled Flight and (3) Late Flight\n",
      "The 3 main negative topics of Delta are: (1) Late Flight, (2) Customer Service Issue and (3) Can't Tell\n",
      "The 3 main negative topics of Southwest are: (1) Customer Service Issue, (2) Cancelled Flight and (3) Can't Tell\n",
      "The 3 main negative topics of US Airways are: (1) Customer Service Issue, (2) Late Flight and (3) Can't Tell\n",
      "The 3 main negative topics of United are: (1) Customer Service Issue, (2) Late Flight and (3) Can't Tell\n",
      "The 3 main negative topics of Virgin America are: (1) Customer Service Issue, (2) Flight Booking Problems and (3) Cancelled Flight\n"
     ]
    },
    {
     "data": {
      "image/png": "[encoded data removed]",
      "text/plain": [
       "<Figure size 864x864 with 6 Axes>"
      ]
     },
     "metadata": {
      "needs_background": "light"
     },
     "output_type": "display_data"
    }
   ],
   "source": [
    "cmap = ['maroon', 'darkred', 'brown', 'indianred', 'darksalmon', 'salmon', 'lightsalmon', 'peachpuff', 'lavenderblush', 'lightyellow']\n",
    "def negative_reason(Airline):\n",
    "  df=tweets[tweets['airline']== Airline]\n",
    "  Neg_reasons_values = df['negativereason'].value_counts(sort=True)\n",
    "  Neg_reasons_labels = dict(df['negativereason'].value_counts(sort=True))\n",
    "  Index = range(len(Neg_reasons_values))\n",
    "  barplot = plt.bar(Index,Neg_reasons_values, alpha = 0.85)\n",
    "  \n",
    "  plt.xticks(Index,Neg_reasons_labels, rotation = 90)\n",
    "  plt.title(Airline)\n",
    "\n",
    "  for color in cmap:\n",
    "    barplot[cmap.index(color)].set_color(color)\n",
    "  \n",
    "  return (\"The 3 main negative topics of \" + Airline + \" are: (1) \" + list(Neg_reasons_labels.keys())[0] + \n",
    "  \", (2) \" + list(Neg_reasons_labels.keys())[1] + \" and (3) \" + list(Neg_reasons_labels.keys())[2])\n",
    "\n",
    "\n",
    "airlines = [\"American\", \"Delta\", \"Southwest\", \"US Airways\", \"United\", \"Virgin America\"]\n",
    "plt.figure(1,figsize=(12, 12))\n",
    "\n",
    "for airline in airlines:\n",
    "  plt.subplot(231 + airlines.index(airline))\n",
    "  print(negative_reason(airline))\n",
    "\n",
    "plt.tight_layout()\n",
    "\n"
   ]
  },
  {
   "cell_type": "markdown",
   "metadata": {
    "colab_type": "text",
    "id": "Bn9khOiXJfvz"
   },
   "source": [
    "### 4.3) Tweet volum per day\n"
   ]
  },
  {
   "cell_type": "code",
   "execution_count": 8,
   "metadata": {
    "colab": {
     "base_uri": "https://localhost:8080/",
     "height": 495
    },
    "colab_type": "code",
    "id": "ZimR4W84Cnje",
    "outputId": "0363677c-ccec-400b-9641-f410ed382e2a"
   },
   "outputs": [
    {
     "data": {
      "text/plain": [
       "(array([0, 1, 2, 3, 4, 5, 6, 7, 8]), <a list of 9 Text xticklabel objects>)"
      ]
     },
     "execution_count": 8,
     "metadata": {},
     "output_type": "execute_result"
    },
    {
     "data": {
      "image/png": "[encoded data removed]",
      "text/plain": [
       "<Figure size 1080x504 with 1 Axes>"
      ]
     },
     "metadata": {
      "needs_background": "light"
     },
     "output_type": "display_data"
    }
   ],
   "source": [
    "X = tweets['tweet_created']\n",
    "\n",
    "fig, ax = plt.subplots(figsize=(15,7))\n",
    "X.groupby([X.dt.day]).count().plot(kind=\"bar\")\n",
    "ax.set_title('Tweet volum per day')\n",
    "ax.set_ylabel(\"# number of Tweets\")\n",
    "ax.set_xlabel(\"Day\")\n",
    "plt.xticks(rotation = 0)\n"
   ]
  },
  {
   "cell_type": "markdown",
   "metadata": {
    "colab_type": "text",
    "id": "2gqVrpjOJkr_"
   },
   "source": [
    "### 4.4) Tweet volum per hour and per day\n"
   ]
  },
  {
   "cell_type": "code",
   "execution_count": 9,
   "metadata": {
    "colab": {
     "base_uri": "https://localhost:8080/",
     "height": 594
    },
    "colab_type": "code",
    "id": "TCg19IAVN8q3",
    "outputId": "8f283a0d-2a06-4e66-d286-e84cb547be9f"
   },
   "outputs": [
    {
     "name": "stderr",
     "output_type": "stream",
     "text": [
      "/Users/Sarah/anaconda3/lib/python3.7/site-packages/ipykernel_launcher.py:2: SettingWithCopyWarning: \n",
      "A value is trying to be set on a copy of a slice from a DataFrame.\n",
      "Try using .loc[row_indexer,col_indexer] = value instead\n",
      "\n",
      "See the caveats in the documentation: http://pandas.pydata.org/pandas-docs/stable/user_guide/indexing.html#returning-a-view-versus-a-copy\n",
      "  \n"
     ]
    },
    {
     "data": {
      "text/plain": [
       "Text(0, 0.5, '# number of Tweets')"
      ]
     },
     "execution_count": 9,
     "metadata": {},
     "output_type": "execute_result"
    },
    {
     "data": {
      "image/png": "[encoded data removed]",
      "text/plain": [
       "<Figure size 1080x504 with 1 Axes>"
      ]
     },
     "metadata": {
      "needs_background": "light"
     },
     "output_type": "display_data"
    }
   ],
   "source": [
    "df = tweets[['tweet_created', 'airline_sentiment_confidence']]\n",
    "df['tweet_created'] = pd.to_datetime(df['tweet_created'])\n",
    "X = df['tweet_created']\n",
    "\n",
    "fig, ax = plt.subplots(figsize=(15,7))\n",
    "X.groupby([X.dt.day,X.dt.hour]).count().plot(ax=ax)\n",
    "ax.set_title('Tweet volum per hour')\n",
    "ax.set_xlabel(\"(day, hour)\")\n",
    "ax.set_ylabel(\"# number of Tweets\")\n"
   ]
  },
  {
   "cell_type": "markdown",
   "metadata": {
    "colab_type": "text",
    "id": "r4SWI6VMJtfM"
   },
   "source": [
    "### 4.5) Stock market\n",
    "*NOT IMPLEMENTED YET*"
   ]
  },
  {
   "cell_type": "code",
   "execution_count": 10,
   "metadata": {
    "colab": {
     "base_uri": "https://localhost:8080/",
     "height": 54
    },
    "colab_type": "code",
    "id": "RrMGPrM3iwzr",
    "outputId": "1f8ebb01-55d8-4479-9a30-03723278987a"
   },
   "outputs": [
    {
     "data": {
      "text/plain": [
       "'X_AAL = pd.to_datetime(AAL[\"Date\"])\\ny_AAL = (AAL[\"Low\"] + AAL[\"High\"])/2\\nX_DAL = DAL[\"Date\"]\\ny_DAL = (DAL[\"Low\"] + DAL[\"High\"])/2\\n\\n# Initialize the data\\ndata = pd.DataFrame(data={\\'Date\\': X_AAL, \\'Avg Price\\': y_AAL})\\n\\n# Create an lineplot\\nplt.figure(figsize=(15,7))\\nsns.lineplot(x=\"Date\", y=\"Avg Price\", data=data)\\nplt.title(\"American Airlines (AAL)\")\\nplt.show()'"
      ]
     },
     "execution_count": 10,
     "metadata": {},
     "output_type": "execute_result"
    }
   ],
   "source": [
    "# Preparing the dataset\n",
    "\"\"\"X_AAL = pd.to_datetime(AAL[\"Date\"])\n",
    "y_AAL = (AAL[\"Low\"] + AAL[\"High\"])/2\n",
    "X_DAL = DAL[\"Date\"]\n",
    "y_DAL = (DAL[\"Low\"] + DAL[\"High\"])/2\n",
    "\n",
    "# Initialize the data\n",
    "data = pd.DataFrame(data={'Date': X_AAL, 'Avg Price': y_AAL})\n",
    "\n",
    "# Create an lineplot\n",
    "plt.figure(figsize=(15,7))\n",
    "sns.lineplot(x=\"Date\", y=\"Avg Price\", data=data)\n",
    "plt.title(\"American Airlines (AAL)\")\n",
    "plt.show()\"\"\""
   ]
  },
  {
   "cell_type": "markdown",
   "metadata": {
    "colab_type": "text",
    "id": "W2TJPb-1vFgT"
   },
   "source": [
    "#### 4.6) Web scraping data\n",
    "The idea here is to increase our data set. We consider relevant to add the **total amount of followers** and if the **account is verified** or not.\n",
    "\n",
    "Find below a small sample. We well upload another file with all this the data asap."
   ]
  },
  {
   "cell_type": "code",
   "execution_count": 11,
   "metadata": {
    "colab": {
     "base_uri": "https://localhost:8080/",
     "height": 87
    },
    "colab_type": "code",
    "id": "NwX6EPJwu9-7",
    "outputId": "7411dc50-016c-421a-f594-10f7cb5fefa6"
   },
   "outputs": [
    {
     "name": "stdout",
     "output_type": "stream",
     "text": [
      "['7\\u202f714 Abonnés', 'jnardino']\n",
      "['517 Abonnés', 'cairdin']\n",
      "['1\\u202f824 Abonnés', 'yvonnalynn']\n"
     ]
    }
   ],
   "source": [
    "from bs4 import BeautifulSoup\n",
    "import requests\n",
    "\n",
    "accounts = ('jnardino', 'cairdin', 'yvonnalynn')\n",
    "\n",
    "for account in accounts:\n",
    "    url = 'https://www.twitter.com/' + account\n",
    "    r = requests.get(url)\n",
    "    soup = BeautifulSoup(r.content, \"lxml\")\n",
    "\n",
    "    f = soup.find('li', class_=\"ProfileNav-item--followers\")\n",
    "    title = f.find('a')['title']\n",
    "    print(list((title, account)))"
   ]
  },
  {
   "cell_type": "markdown",
   "metadata": {
    "colab_type": "text",
    "id": "0vuBfZrWJ194"
   },
   "source": [
    "### 4.7) World cloud"
   ]
  },
  {
   "cell_type": "markdown",
   "metadata": {
    "colab_type": "text",
    "id": "TCLhBW-8lSj-"
   },
   "source": [
    "#### 4.7.1) Draw wordcloud function\n",
    "\n",
    "The **`draw_wordcloud`** function allows to plot the drawcloud according the sentiment analysis:\n",
    "\n",
    "**Arguments**: \n",
    "*   `sentiment`: string string representing the sentiment. The possible values are: `('positive', 'negative', 'neutral')`. "
   ]
  },
  {
   "cell_type": "code",
   "execution_count": 12,
   "metadata": {
    "colab": {},
    "colab_type": "code",
    "id": "Q-dEkh20lSj-"
   },
   "outputs": [],
   "source": [
    "def draw_wordcloud(sentiment):\n",
    "    sentiment_tweets  =tweets[tweets['airline_sentiment']== sentiment]\n",
    "    words = ' '.join(sentiment_tweets['text'])\n",
    "    cleaned_word = \" \".join([word for word in words.split() if 'http' not in word and not word.startswith('@') and word != 'RT'])\n",
    "    wordcloud = WordCloud(stopwords=STOPWORDS,background_color='white',width=3000, height=2500).generate(cleaned_word)\n",
    "    plt.figure(1,figsize=(15,15))\n",
    "    plt.imshow(wordcloud)\n",
    "    plt.axis('off')\n",
    "    plt.show()"
   ]
  },
  {
   "cell_type": "code",
   "execution_count": 13,
   "metadata": {
    "colab": {},
    "colab_type": "code",
    "id": "DwfJoyRPlSkB"
   },
   "outputs": [],
   "source": [
    "#draw_wordcloud('negative')"
   ]
  },
  {
   "cell_type": "code",
   "execution_count": 14,
   "metadata": {
    "colab": {},
    "colab_type": "code",
    "id": "rfxsGS4ulSkE"
   },
   "outputs": [],
   "source": [
    "# draw_wordcloud('positive')"
   ]
  },
  {
   "cell_type": "code",
   "execution_count": 15,
   "metadata": {
    "colab": {},
    "colab_type": "code",
    "id": "f2PyvOrDlSkK"
   },
   "outputs": [],
   "source": [
    "# draw_wordcloud('neutral')"
   ]
  },
  {
   "cell_type": "markdown",
   "metadata": {
    "colab_type": "text",
    "id": "GxzHCVSoHvpo"
   },
   "source": [
    "## 5) DATA MINING AND MACHINE LEARNING"
   ]
  },
  {
   "cell_type": "markdown",
   "metadata": {
    "colab_type": "text",
    "id": "DbH74JejC37v"
   },
   "source": [
    "### 5.1) Tweet sentiment analysis\n",
    "\n",
    "The function **`tweet_sentiment_analysis`** computes the sentiment analysis of each tweet using **TextBlob** (`polarity` and `subjectivity`) and using **Vader** (`neg`, `neu`, `pos` and `compound`)\n",
    "\n",
    "The idea is to sort the bunch of tweets based on the polarity/compound level of the tweet *(NOT IMPLEMENTED)*\n",
    "\n",
    "> **Polarity** : Polarity is a float value within the range `[-1.0 to 1.0]` where 0 indicates neutral, +1 indicates a very positive sentiment and -1 represents a very negative sentiment.\n",
    "\n",
    "> **Subjectivity**: Subjectivity is a float value within the range `[0.0 to 1.0]` where 0.0 is very objective and 1.0 is very subjective. \n",
    "\n",
    "> **Compound**: Similar to polarity in Textblob, is a float value within the range `[0.0 to 1.0]` where 0.0 is very objective and 1.0 is very subjective. A key difference however, is that Vader was designed with a focus on social media texts. "
   ]
  },
  {
   "cell_type": "code",
   "execution_count": 5,
   "metadata": {
    "colab": {},
    "colab_type": "code",
    "id": "jRVDmmpqCv85"
   },
   "outputs": [],
   "source": [
    "def sentiment_analysis(tweet_to_be_classified): #here we use unfiltered tweets because TextBlob and Vader filters them \n",
    "    list_sentiments_textblob = []\n",
    "    list_sentiments_vader = []\n",
    "    vader = SentimentIntensityAnalyzer()\n",
    "\n",
    "    for element in tweet_to_be_classified:\n",
    "        # TextBlob\n",
    "        # TO DO: correct spelling \n",
    "        list_sentiments_textblob.append(TextBlob(element).sentiment)\n",
    "        # Vader\n",
    "        list_sentiments_vader.append(vader.polarity_scores(element))\n",
    "\n",
    "    df = pd.concat([pd.DataFrame(list_sentiments_vader), pd.DataFrame(list_sentiments_textblob)], axis=1, sort=False)\n",
    "\n",
    "    return df"
   ]
  },
  {
   "cell_type": "markdown",
   "metadata": {
    "colab_type": "text",
    "id": "lKl722XotQwA"
   },
   "source": [
    "Here the idea is to detect the language of the tweet (some of them are not in english) -> Then we want to remove it.\n"
   ]
  },
  {
   "cell_type": "code",
   "execution_count": 6,
   "metadata": {
    "colab": {},
    "colab_type": "code",
    "id": "8gx4a3Ukg4XC"
   },
   "outputs": [],
   "source": [
    "def tweet_language(tweets): # Not implemented\n",
    "    tweets_tokenized = filter_tweets(tweets)\n",
    "    tweets_language = []\n",
    "\n",
    "    for token in tweets_tokenized:\n",
    "      print(TextBlob(token[0]).detect_language()) # TO DO: put more words token[0:3]"
   ]
  },
  {
   "cell_type": "code",
   "execution_count": 7,
   "metadata": {
    "colab": {},
    "colab_type": "code",
    "id": "tdQoVutiU5uy"
   },
   "outputs": [],
   "source": [
    "# print(tweet_language(tweets[\"text\"][10:20]))\n",
    "# print(filter_tweets(tweets[\"text\"][10:20]))"
   ]
  },
  {
   "cell_type": "code",
   "execution_count": 8,
   "metadata": {
    "colab": {},
    "colab_type": "code",
    "id": "FtD_suchFZlx"
   },
   "outputs": [],
   "source": [
    "# Applying the formula defined in the before code chunk in the whole dataset tweets.\n",
    "sentiment_table = sentiment_analysis(tweets[\"text\"])"
   ]
  },
  {
   "cell_type": "code",
   "execution_count": 9,
   "metadata": {
    "colab": {},
    "colab_type": "code",
    "id": "lFyl6Rs20czp"
   },
   "outputs": [],
   "source": [
    "# Storing the sentiment analysis in the dataframe tweets\n",
    "tweets[\"polarity_Vader\"] = sentiment_table[\"compound\"]\n",
    "tweets[\"polarity_Textblob\"] = sentiment_table[\"polarity\"]"
   ]
  },
  {
   "cell_type": "markdown",
   "metadata": {
    "colab_type": "text",
    "id": "1J0nK-FfFh5s"
   },
   "source": [
    "#### **TextBlob and Vader conversion**\n",
    "Now we are going to convert the sentiment data we found into strings.\n",
    "Such that:\n",
    "> **Polarity ϵ {-1, 1}**\n",
    "* `-1 <= polarity < 0`: the tweet is negative <br>\n",
    "* `polarity = 0`: the tweet is neutral <br>\n",
    "* `0 < polarity <= 1`: the tweet is positive <br>\n",
    "\n",
    "$$ Where \\ p \\in (-1, 1)$$\n",
    "\n",
    "\n",
    "$$\n",
    "T(p) = \\left\\{\n",
    "        \\begin{array}{ll}\n",
    "            negative & if \\quad p < 0 \\\\\n",
    "            neutral & if \\quad p = 0 \\\\\n",
    "            positive & if \\quad p > 0 \\\\\n",
    "        \\end{array}\n",
    "    \\right.\n",
    "$$\n",
    "\n",
    "**Note**: The values that enable to classify among sentiments are subjective and can be changed."
   ]
  },
  {
   "cell_type": "code",
   "execution_count": 10,
   "metadata": {
    "colab": {},
    "colab_type": "code",
    "id": "UIF7FArfu5eL"
   },
   "outputs": [],
   "source": [
    "def polarity_string_conversion(polarity_values, new_column_name):\n",
    "  polarity_string=[]\n",
    "\n",
    "  for element in polarity_values:\n",
    "    if -1 <= element < 0:\n",
    "      polarity_string.append(\"negative\")\n",
    "    elif element == 0:\n",
    "      polarity_string.append(\"neutral\")\n",
    "    else: \n",
    "      polarity_string.append(\"positive\")\n",
    "\n",
    "  #Adding the string conversion to tweets dataframe\n",
    "  tweets[new_column_name] = polarity_string"
   ]
  },
  {
   "cell_type": "code",
   "execution_count": 11,
   "metadata": {
    "colab": {
     "base_uri": "https://localhost:8080/",
     "height": 170
    },
    "colab_type": "code",
    "id": "7faSfUT5v2Jr",
    "outputId": "80814310-ec95-437a-cb45-8a6b4b70aacc"
   },
   "outputs": [
    {
     "name": "stdout",
     "output_type": "stream",
     "text": [
      "   Unnamed: 0            tweet_id airline_sentiment  \\\n",
      "0           0  570306133677760513           neutral   \n",
      "1           1  570301130888122368          positive   \n",
      "2           2  570301031407624196          negative   \n",
      "3           3  570300817074462722          negative   \n",
      "4           4  570300767074181121          negative   \n",
      "\n",
      "   airline_sentiment_confidence negativereason  negativereason_confidence  \\\n",
      "0                        1.0000            NaN                        NaN   \n",
      "1                        0.3486            NaN                     0.0000   \n",
      "2                        1.0000     Bad Flight                     0.7033   \n",
      "3                        1.0000     Can't Tell                     1.0000   \n",
      "4                        1.0000     Can't Tell                     0.6842   \n",
      "\n",
      "          airline airline_sentiment_gold      name negativereason_gold  ...  \\\n",
      "0  Virgin America                    NaN   cairdin                 NaN  ...   \n",
      "1  Virgin America                    NaN  jnardino                 NaN  ...   \n",
      "2  Virgin America                    NaN  jnardino                 NaN  ...   \n",
      "3  Virgin America                    NaN  jnardino                 NaN  ...   \n",
      "4  Virgin America                    NaN  jnardino                 NaN  ...   \n",
      "\n",
      "   tweet_coord              tweet_created tweet_location  \\\n",
      "0          NaN  2015-02-24 11:35:52 -0800            NaN   \n",
      "1          NaN  2015-02-24 11:15:59 -0800            NaN   \n",
      "2          NaN  2015-02-24 11:15:36 -0800            NaN   \n",
      "3          NaN  2015-02-24 11:14:45 -0800            NaN   \n",
      "4          NaN  2015-02-24 11:14:33 -0800            NaN   \n",
      "\n",
      "                user_timezone Followers Verified  polarity_Vader  \\\n",
      "0  Eastern Time (US & Canada)       517    False          0.0000   \n",
      "1  Pacific Time (US & Canada)      7714     True          0.0000   \n",
      "2  Pacific Time (US & Canada)      7714     True         -0.5984   \n",
      "3  Pacific Time (US & Canada)      7714     True         -0.5829   \n",
      "4  Pacific Time (US & Canada)      7714     True         -0.5945   \n",
      "\n",
      "   polarity_Textblob  polarity_Textblob_string  polarity_Vader_string  \n",
      "0           0.000000                   neutral                neutral  \n",
      "1           0.000000                   neutral                neutral  \n",
      "2           0.006250                  positive               negative  \n",
      "3          -0.350000                  negative               negative  \n",
      "4          -0.208333                  negative               negative  \n",
      "\n",
      "[5 rows x 22 columns]\n"
     ]
    }
   ],
   "source": [
    "# Computing the conversion and storig to tweets\n",
    "polarity_string_conversion(tweets[\"polarity_Textblob\"], \"polarity_Textblob_string\")\n",
    "polarity_string_conversion(tweets[\"polarity_Vader\"], \"polarity_Vader_string\")\n",
    "print(tweets.head(5))"
   ]
  },
  {
   "cell_type": "code",
   "execution_count": 12,
   "metadata": {
    "colab": {},
    "colab_type": "code",
    "id": "M9SdjkVZG3tQ"
   },
   "outputs": [],
   "source": [
    "# Preparing the data to be compared with the original classification sentiment\n",
    "def classification_sentiment(method_used):\n",
    "  number_equal_sentiment = 0\n",
    "  for i in range(len(tweets[\"airline_sentiment\"])):\n",
    "    if tweets[\"airline_sentiment\"][i] == tweets[\"polarity_\"+ method_used +\"_string\"][i]:\n",
    "        number_equal_sentiment += 1\n",
    "  return (\"Using the method \"+ method_used + \": We estimated \" + str(number_equal_sentiment) + \" sentiments in the same way as the sentiments provided by the data set.\\n\" + \n",
    "          \"The \" + method_used + \" accuracy is equal to {:.2%}\".format(number_equal_sentiment/len(tweets[\"airline_sentiment\"])))"
   ]
  },
  {
   "cell_type": "code",
   "execution_count": 13,
   "metadata": {
    "colab": {
     "base_uri": "https://localhost:8080/",
     "height": 104
    },
    "colab_type": "code",
    "id": "cPtzuZ9oyuxL",
    "outputId": "48c31ecb-37f2-472e-e1da-5d19c05552ae"
   },
   "outputs": [
    {
     "name": "stdout",
     "output_type": "stream",
     "text": [
      "Using the method Textblob: We estimated 5659 sentiments in the same way as the sentiments provided by the data set.\n",
      "The Textblob accuracy is equal to 46.14%\n",
      "Using the method Vader: We estimated 6721 sentiments in the same way as the sentiments provided by the data set.\n",
      "The Vader accuracy is equal to 54.80%\n"
     ]
    }
   ],
   "source": [
    "# Computing the accuracy for each method used\n",
    "print(classification_sentiment(\"Textblob\"))\n",
    "print(classification_sentiment(\"Vader\"))\n"
   ]
  },
  {
   "cell_type": "code",
   "execution_count": 14,
   "metadata": {
    "colab": {
     "base_uri": "https://localhost:8080/",
     "height": 153
    },
    "colab_type": "code",
    "id": "ULY-OaAlZDUs",
    "outputId": "0c9b70c3-98ca-4549-f5ab-8ad57c87ad8f"
   },
   "outputs": [
    {
     "name": "stdout",
     "output_type": "stream",
     "text": [
      "[[0.22511211 0.22625357 0.18524256]\n",
      " [0.02209539 0.11455361 0.06620465]\n",
      " [0.00725642 0.0315532  0.1217285 ]]\n",
      "\n",
      "[[0.32238076 0.12001631 0.19421117]\n",
      " [0.02837342 0.08487566 0.08960457]\n",
      " [0.00635956 0.01345291 0.14072564]]\n"
     ]
    }
   ],
   "source": [
    "# Computing the Confusion Matrix of each method\n",
    "print(confusion_matrix(tweets[\"airline_sentiment\"], tweets[\"polarity_Textblob_string\"])/len(tweets[\"airline_sentiment\"]))\n",
    "print()\n",
    "print(confusion_matrix(tweets[\"airline_sentiment\"], tweets[\"polarity_Vader_string\"])/len(tweets[\"airline_sentiment\"]))"
   ]
  },
  {
   "cell_type": "code",
   "execution_count": 15,
   "metadata": {
    "colab": {
     "base_uri": "https://localhost:8080/",
     "height": 702
    },
    "colab_type": "code",
    "id": "w781EUdMapoT",
    "outputId": "4635dd19-c9f9-4e98-9ac3-8627273f80c8"
   },
   "outputs": [
    {
     "name": "stderr",
     "output_type": "stream",
     "text": [
      "/Users/Sarah/anaconda3/lib/python3.7/site-packages/ipykernel_launcher.py:40: UserWarning: Matplotlib is currently using module://ipykernel.pylab.backend_inline, which is a non-GUI backend, so cannot show the figure.\n"
     ]
    },
    {
     "data": {
      "image/png": "[encoded data removed]",
      "text/plain": [
       "<Figure size 504x360 with 2 Axes>"
      ]
     },
     "metadata": {
      "needs_background": "light"
     },
     "output_type": "display_data"
    },
    {
     "data": {
      "image/png": "[encoded data removed]",
      "text/plain": [
       "<Figure size 504x360 with 2 Axes>"
      ]
     },
     "metadata": {
      "needs_background": "light"
     },
     "output_type": "display_data"
    }
   ],
   "source": [
    "# CONFUSION MATRIX PLOT\n",
    "def plot_confusion_matrix(method, cm, classes, normalize=True, cmap=plt.cm.Blues):\n",
    "    if normalize:\n",
    "        cm = cm.astype('float') / cm.sum(axis=1)[:, np.newaxis]\n",
    "\n",
    "    plt.imshow(cm, interpolation='nearest', cmap=cmap)\n",
    "    plt.colorbar()\n",
    "    tick_marks = np.arange(len(classes))\n",
    "    plt.xticks(tick_marks, classes)\n",
    "    plt.yticks(tick_marks, classes)\n",
    "\n",
    "    fmt = '.2f' if normalize else 'd'\n",
    "    thresh = cm.max() / 2.\n",
    "    for i, j in itertools.product(range(cm.shape[0]), range(cm.shape[1])):\n",
    "        plt.text(j, i, format(cm[i, j], fmt),\n",
    "                 horizontalalignment=\"center\",\n",
    "                 color=\"white\" if cm[i, j] > thresh else \"black\")\n",
    "\n",
    "    plt.ylim([-0.5, 2.5])\n",
    "    plt.title(method + \" Confusion Matrix\")\n",
    "    plt.ylabel('True label')\n",
    "    plt.xlabel('Predicted label')\n",
    "\n",
    "\n",
    "methods = [\"Vader\", \"Textblob\"]\n",
    "\n",
    "for method in methods:\n",
    "  target = tweets[\"airline_sentiment\"]\n",
    "  predicted_TextBlob = tweets[\"polarity_\"+ method +\"_string\"]\n",
    "\n",
    "  class_names = unique_labels(target, predicted_TextBlob)\n",
    "\n",
    "  # Computing the confusion matrix\n",
    "  cnf_matrix = confusion_matrix(target, predicted_TextBlob)\n",
    "  np.set_printoptions(precision=2)\n",
    "\n",
    "  # Ploting non-normalized confusion matrix\n",
    "  fig, ax = plt.subplots(figsize=(7,5))\n",
    "  plot_confusion_matrix(method, cnf_matrix, classes=class_names)\n",
    "  fig.show()\n"
   ]
  },
  {
   "cell_type": "code",
   "execution_count": 62,
   "metadata": {},
   "outputs": [
    {
     "name": "stdout",
     "output_type": "stream",
     "text": [
      "The precision score when using TextBlob is of 0.51\n",
      "The precision score when using Vader is of 0.51\n",
      "The recall score when using TextBlob is of 0.56\n",
      "The recall score when using Vader is of 0.60\n"
     ]
    }
   ],
   "source": [
    "#Precision and recall scores\n",
    "\n",
    "#Precision \n",
    "from sklearn.metrics import precision_score\n",
    "\n",
    "y_true= tweets[\"airline_sentiment\"]\n",
    "\n",
    "#for TextBlob\n",
    "y_pred_t = tweets[\"polarity_Textblob_string\"]\n",
    "precision_score(y_true, y_pred_t, average = \"macro\")\n",
    "print(\"The precision score when using TextBlob is of {0:.2f}\".format(precision_score(y_true, y_pred_t, average = \"macro\")))\n",
    "\n",
    "#for Vader\n",
    "y_pred_v= tweets[\"polarity_Vader_string\"]\n",
    "tweets[\"polarity_Vader_string\"]\n",
    "precision_score(y_true, y_pred_v, average = \"macro\")\n",
    "print(\"The precision score when using Vader is of {0:.2f}\".format(precision_score(y_true, y_pred_t, average = \"macro\")))\n",
    "\n",
    "\n",
    "#Recall\n",
    "from sklearn.metrics import recall_score\n",
    "\n",
    "#for TextBlob\n",
    "recall_score(y_true, y_pred_t, average = \"macro\")\n",
    "print(\"The recall score when using TextBlob is of {0:.2f}\".format(recall_score(y_true, y_pred_t, average = \"macro\")))\n",
    "\n",
    "#for Vader\n",
    "recall_score(y_true, y_pred_v, average = \"macro\")\n",
    "print(\"The recall score when using Vader is of {0:.2f}\".format(recall_score(y_true, y_pred_v, average=\"macro\")))\n"
   ]
  },
  {
   "cell_type": "code",
   "execution_count": 71,
   "metadata": {},
   "outputs": [],
   "source": [
    "#Label_encoder\n",
    "from sklearn.preprocessing import LabelEncoder\n",
    "le = LabelEncoder()\n",
    "y_true_label_enc = le.fit_transform(y_true)\n",
    "y_pred_t_label_enc = le.fit_transform(y_pred_t)\n",
    "y_pred_v_label_enc = le.fit_transform(y_pred_v)\n",
    "\n",
    "#One-hot_encoder\n",
    "from sklearn.preprocessing import OneHotEncoder\n",
    "\n",
    "#True value\n",
    "onehot_encoder = OneHotEncoder(sparse=False)\n",
    "y_true_label_enc = y_true_label_enc.reshape(len(y_true_label_enc), 1)\n",
    "y_true__onehot_enc = onehot_encoder.fit_transform(y_true_label_enc)\n",
    "print(y_true__onehot_enc)\n",
    "\n",
    "#Prediceted value with TextBlob\n",
    "onehot_encoder = OneHotEncoder(sparse=False)\n",
    "y_pred_t_label_enc = y_pred_t_label_enc.reshape(len(y_pred_t_label_enc), 1)\n",
    "y_pred_t_onehot_enc = onehot_encoder.fit_transform(y_pred_t_label_enc)\n",
    "print(y_pred_t_onehot_enc)\n",
    "\n",
    "#Prediceted value with Vader\n",
    "onehot_encoder = OneHotEncoder(sparse=False)\n",
    "y_pred_v_label_enc = y_pred_t_label_enc.reshape(len(y_pred_v_label_enc), 1)\n",
    "y_pred_v_onehot_enc = onehot_encoder.fit_transform(y_pred_v_label_enc)\n",
    "print(y_pred_v_onehot_enc)"
   ]
  },
  {
   "cell_type": "code",
   "execution_count": 73,
   "metadata": {},
   "outputs": [
    {
     "name": "stdout",
     "output_type": "stream",
     "text": [
      "Average precision-recall score with TextBlob prediction: 0.42\n",
      "Average precision-recall score with Vader prediction: 0.42\n"
     ]
    }
   ],
   "source": [
    "#Average precision-recall score\n",
    "from sklearn.metrics import average_precision_score\n",
    "average_prec_recall_t = average_precision_score(y_pred_t_onehot_enc, y_true__onehot_enc)\n",
    "average_prec_recall_v = average_precision_score(y_pred_v_onehot_enc, y_true__onehot_enc)\n",
    "\n",
    "print('Average precision-recall score with TextBlob prediction: {0:.2f}'.format(average_prec_recall_t))\n",
    "print('Average precision-recall score with Vader prediction: {0:.2f}'.format(average_prec_recall_v))"
   ]
  },
  {
   "cell_type": "code",
   "execution_count": 75,
   "metadata": {},
   "outputs": [
    {
     "ename": "ValueError",
     "evalue": "multilabel-indicator format is not supported",
     "output_type": "error",
     "traceback": [
      "\u001b[0;31m---------------------------------------------------------------------------\u001b[0m",
      "\u001b[0;31mValueError\u001b[0m                                Traceback (most recent call last)",
      "\u001b[0;32m<ipython-input-75-4487801371cc>\u001b[0m in \u001b[0;36m<module>\u001b[0;34m\u001b[0m\n\u001b[1;32m      1\u001b[0m \u001b[0;32mfrom\u001b[0m \u001b[0msklearn\u001b[0m\u001b[0;34m.\u001b[0m\u001b[0mmetrics\u001b[0m \u001b[0;32mimport\u001b[0m \u001b[0mprecision_recall_curve\u001b[0m\u001b[0;34m\u001b[0m\u001b[0;34m\u001b[0m\u001b[0m\n\u001b[0;32m----> 2\u001b[0;31m \u001b[0mprecision_recall_curve\u001b[0m\u001b[0;34m(\u001b[0m\u001b[0my_true__onehot_enc\u001b[0m\u001b[0;34m,\u001b[0m \u001b[0my_pred_t_onehot_enc\u001b[0m\u001b[0;34m)\u001b[0m\u001b[0;34m\u001b[0m\u001b[0;34m\u001b[0m\u001b[0m\n\u001b[0m",
      "\u001b[0;32m~/anaconda3/lib/python3.7/site-packages/sklearn/metrics/_ranking.py\u001b[0m in \u001b[0;36mprecision_recall_curve\u001b[0;34m(y_true, probas_pred, pos_label, sample_weight)\u001b[0m\n\u001b[1;32m    651\u001b[0m     fps, tps, thresholds = _binary_clf_curve(y_true, probas_pred,\n\u001b[1;32m    652\u001b[0m                                              \u001b[0mpos_label\u001b[0m\u001b[0;34m=\u001b[0m\u001b[0mpos_label\u001b[0m\u001b[0;34m,\u001b[0m\u001b[0;34m\u001b[0m\u001b[0;34m\u001b[0m\u001b[0m\n\u001b[0;32m--> 653\u001b[0;31m                                              sample_weight=sample_weight)\n\u001b[0m\u001b[1;32m    654\u001b[0m \u001b[0;34m\u001b[0m\u001b[0m\n\u001b[1;32m    655\u001b[0m     \u001b[0mprecision\u001b[0m \u001b[0;34m=\u001b[0m \u001b[0mtps\u001b[0m \u001b[0;34m/\u001b[0m \u001b[0;34m(\u001b[0m\u001b[0mtps\u001b[0m \u001b[0;34m+\u001b[0m \u001b[0mfps\u001b[0m\u001b[0;34m)\u001b[0m\u001b[0;34m\u001b[0m\u001b[0;34m\u001b[0m\u001b[0m\n",
      "\u001b[0;32m~/anaconda3/lib/python3.7/site-packages/sklearn/metrics/_ranking.py\u001b[0m in \u001b[0;36m_binary_clf_curve\u001b[0;34m(y_true, y_score, pos_label, sample_weight)\u001b[0m\n\u001b[1;32m    514\u001b[0m     if not (y_type == \"binary\" or\n\u001b[1;32m    515\u001b[0m             (y_type == \"multiclass\" and pos_label is not None)):\n\u001b[0;32m--> 516\u001b[0;31m         \u001b[0;32mraise\u001b[0m \u001b[0mValueError\u001b[0m\u001b[0;34m(\u001b[0m\u001b[0;34m\"{0} format is not supported\"\u001b[0m\u001b[0;34m.\u001b[0m\u001b[0mformat\u001b[0m\u001b[0;34m(\u001b[0m\u001b[0my_type\u001b[0m\u001b[0;34m)\u001b[0m\u001b[0;34m)\u001b[0m\u001b[0;34m\u001b[0m\u001b[0;34m\u001b[0m\u001b[0m\n\u001b[0m\u001b[1;32m    517\u001b[0m \u001b[0;34m\u001b[0m\u001b[0m\n\u001b[1;32m    518\u001b[0m     \u001b[0mcheck_consistent_length\u001b[0m\u001b[0;34m(\u001b[0m\u001b[0my_true\u001b[0m\u001b[0;34m,\u001b[0m \u001b[0my_score\u001b[0m\u001b[0;34m,\u001b[0m \u001b[0msample_weight\u001b[0m\u001b[0;34m)\u001b[0m\u001b[0;34m\u001b[0m\u001b[0;34m\u001b[0m\u001b[0m\n",
      "\u001b[0;31mValueError\u001b[0m: multilabel-indicator format is not supported"
     ]
    }
   ],
   "source": [
    "from sklearn.metrics import precision_recall_curve\n",
    "precision_recall_curve(y_true__onehot_enc, y_pred_t_onehot_enc)"
   ]
  },
  {
   "cell_type": "code",
   "execution_count": null,
   "metadata": {},
   "outputs": [],
   "source": []
  },
  {
   "cell_type": "code",
   "execution_count": null,
   "metadata": {
    "colab": {
     "base_uri": "https://localhost:8080/",
     "height": 643
    },
    "colab_type": "code",
    "id": "GI49gLm24Ymi",
    "outputId": "7064162f-1008-47f4-c495-3440aa615cbf"
   },
   "outputs": [],
   "source": [
    "# Another way to visualize the error predicted by both methods, size dots = # followers\n",
    "X = tweets[\"polarity_Textblob\"]\n",
    "y = tweets[\"polarity_Vader\"]\n",
    "followers = tweets[\"Followers\"]\n",
    "s = []\n",
    "for t in followers:\n",
    "  if t < 100:\n",
    "    s.append(1)\n",
    "  elif t < 500:\n",
    "    s.append(5)\n",
    "  elif t < 1500:\n",
    "    s.append(8)\n",
    "  elif t < 5000:\n",
    "    s.append(20)\n",
    "  else:\n",
    "    s.append(200)\n",
    "\n",
    "\n",
    "def pltcolor(lst):\n",
    "    cols=[]\n",
    "    for l in lst:\n",
    "        if l=='negative':\n",
    "            cols.append('red')\n",
    "        elif l=='neutral':\n",
    "            cols.append('blue')\n",
    "        else:\n",
    "            cols.append('green')\n",
    "    return cols\n",
    "\n",
    "colors = pltcolor(tweets[\"airline_sentiment\"])\n",
    "\n",
    "plt.figure(figsize=(15,10))\n",
    "plt.scatter(X[0:5000], y[0:5000], c = colors[0:5000], edgecolors='k', s = s[0:5000])\n",
    "plt.ylabel('VADER Polarity')\n",
    "plt.xlabel('TEXTBLOB Polarity')"
   ]
  },
  {
   "cell_type": "markdown",
   "metadata": {
    "colab_type": "text",
    "id": "0aimKxx9lvrK"
   },
   "source": [
    "As we saw in the confusion matrix, the accuracy of TextBlob and Vader is not really good. Now we want to focus with those tweets where the actual value is positive but TextBlob classified as negative:\n",
    "\n",
    "> **Green dots in the previous graph ubicated in x < 0**\n",
    "\n",
    "**Spoiler!** TextBlob does not distinguish sarcasm or irony and has serious problems when it has to classify *ambiguous words* such as \"killed\".\n",
    "\n",
    "*Other examples:*\n",
    "* less painful\n",
    "* obsessed with\n",
    "* it was absurd\n",
    "* freaked me out\n",
    "* fixed the broken ramp\n",
    "* \"*We left iPad in a seat pocket.  Filed lost item report. Received it exactly 1 week Late Flightr.  Is that a record?  #unbelievable*\"\n",
    "---\n",
    "However, this is not a significant problem since represents de 1% of the total tweets..."
   ]
  },
  {
   "cell_type": "code",
   "execution_count": null,
   "metadata": {
    "colab": {},
    "colab_type": "code",
    "id": "We7ipxxLy41o"
   },
   "outputs": [],
   "source": [
    "pred_TBlob = tweets[\"polarity_Textblob\"]\n",
    "pred_Vlder = tweets[\"polarity_Vader\"]\n",
    "act_sent = tweets[[\"airline_sentiment\",\"text\"]]"
   ]
  },
  {
   "cell_type": "code",
   "execution_count": null,
   "metadata": {
    "colab": {
     "base_uri": "https://localhost:8080/",
     "height": 203
    },
    "colab_type": "code",
    "id": "QLczHiq8goF3",
    "outputId": "73ddfc45-6ee6-4367-9b30-0031b5346ffd"
   },
   "outputs": [],
   "source": [
    "# Actual value: positive - Predicted value: negative -> 1% of total decisions\n",
    "apos_pneg = []\n",
    "\n",
    "for i in range(len(pred_Vlder)):\n",
    "  if pred_Vlder[i] < 0 and act_sent.iloc[i,0] == \"positive\":\n",
    "    apos_pneg.append(act_sent.iloc[i,1]) \n",
    "\n",
    "for i in range(0,10):\n",
    "  print(apos_pneg[i])\n"
   ]
  },
  {
   "cell_type": "markdown",
   "metadata": {
    "colab_type": "text",
    "id": "DvRtJznDEX9u"
   },
   "source": [
    "Now we want to focus with those tweets where the actual value is negative but TextBlob classified as positive:\n",
    "\n",
    "> **Red dots in the previous graph ubicated in x > 0** \n",
    "\n",
    "This is an important issue since 18% of total decisions using either the Textblob or Vader are made wrongly."
   ]
  },
  {
   "cell_type": "code",
   "execution_count": null,
   "metadata": {
    "colab": {
     "base_uri": "https://localhost:8080/",
     "height": 203
    },
    "colab_type": "code",
    "id": "hL4LCq4yzZdo",
    "outputId": "a6052270-6601-4051-ec4b-ff5ab73787b0"
   },
   "outputs": [],
   "source": [
    "# Actual value: negative - Predicted value: positive -> 18% of total decisions\n",
    "aneg_ppos = []\n",
    "\n",
    "for i in range(len(pred_Vlder)):\n",
    "  if pred_Vlder[i] > 0 and act_sent.iloc[i,0] == \"negative\":\n",
    "    aneg_ppos.append(act_sent.iloc[i,1]) \n",
    "\n",
    "for i in range(0,10):\n",
    "  print(aneg_ppos[i])"
   ]
  },
  {
   "cell_type": "markdown",
   "metadata": {
    "colab_type": "text",
    "id": "g9-XN0UEgm-M"
   },
   "source": [
    "$$ \\ \\ \\ \\ \\ \\ \\ \\ \\ \\ \\ \\ \\ \\ \\ \\ \\ \\ \\ \\ \\ \\ \\ \\ \\ Predicted \\ \\ Value $$\n",
    "$$ Actual \\ \\ Value \\  \\begin{pmatrix}\n",
    "a_{pos}\\_p_{pos} & a_{pos}\\_p_{neu} & a_{pos}\\_p_{neg}\\\\\n",
    "a_{neu}\\_p_{pos} & a_{neu}\\_p_{neu} & a_{neu}\\_p_{neg}\\\\\n",
    "a_{neg}\\_p_{pos} & a_{neg}\\_p_{neu} & a_{neg}\\_p_{neg}\\\\\n",
    "\\end{pmatrix}$$\n",
    "\n",
    "\n",
    "\n"
   ]
  },
  {
   "cell_type": "code",
   "execution_count": null,
   "metadata": {
    "colab": {},
    "colab_type": "code",
    "id": "6wBSDKJZaYfo"
   },
   "outputs": [],
   "source": [
    "# Storing the incorrect predicted tweets\n",
    "\n",
    "# Actual value: neutral - Predicted value: positive\n",
    "aneu_ppos = []\n",
    "for i in range(len(pred_Vlder)):\n",
    "  if pred_Vlder[i] > 0 and act_sent.iloc[i,0] == \"neutral\":\n",
    "    aneu_ppos.append(act_sent.iloc[i,1]) \n",
    "\n",
    "# Actual value: negative - Predicted value: neutral\n",
    "aneg_pneu = []\n",
    "for i in range(len(pred_Vlder)):\n",
    "  if pred_Vlder[i] == 0 and act_sent.iloc[i,0] == \"negative\":\n",
    "    aneg_pneu.append(act_sent.iloc[i,1])\n",
    "\n",
    "# Actual value: positive - Predicted value: neutral\n",
    "apos_pneu = []\n",
    "for i in range(len(pred_Vlder)):\n",
    "  if pred_Vlder[i] == 0 and act_sent.iloc[i,0] == \"positive\":\n",
    "    apos_pneu.append(act_sent.iloc[i,1])\n",
    "\n",
    "# Actual value: neutral - Predicted value: negative\n",
    "apos_pneu = []\n",
    "for i in range(len(pred_Vlder)):\n",
    "  if pred_Vlder[i] < 0 and act_sent.iloc[i,0] == \"neutral\":\n",
    "    apos_pneu.append(act_sent.iloc[i,1])"
   ]
  },
  {
   "cell_type": "code",
   "execution_count": null,
   "metadata": {
    "colab": {
     "base_uri": "https://localhost:8080/",
     "height": 148
    },
    "colab_type": "code",
    "id": "ueW6tK2u9HUc",
    "outputId": "d4d4cfdf-c564-429a-8458-59bf3f08c6c6"
   },
   "outputs": [],
   "source": [
    "def incorrect_predicted_tweets(actual_sentiment, predicted_sentiment): # NOT IMPLEMENTED\n",
    "  df = []\n",
    "  column_name = \"a\" + actual_sentiment[0:3] + \"_\" + \"p\" + predicted_sentiment[0:3]\n",
    "  if predicted_sentiment == \"positive\":\n",
    "    sign = \">\"\n",
    "  if predicted_sentiment == \"neutral\":\n",
    "    sign = \"==\"\n",
    "  else:   \n",
    "    sign = \"<\"\n",
    "      \n",
    "  for i in range(len(pred_Vlder)):\n",
    "    if pred_Vlder[i] sign 0 and act_sent.iloc[i,0] == actual_sentiment:\n",
    "      df[column_name].append(act_sent.iloc[i,1])\n",
    "\n",
    "print(incorrect_predicted_tweets(\"positive\", \"positive\"))"
   ]
  },
  {
   "cell_type": "markdown",
   "metadata": {
    "colab_type": "text",
    "id": "cgn_Yzr-Ftx1"
   },
   "source": [
    "As we can observed in the printed tweeets from above, the TextBlob and Vader methods don't weight properly the words in the tweet. Let's take an example to understand what really is happening:"
   ]
  },
  {
   "cell_type": "code",
   "execution_count": null,
   "metadata": {
    "colab": {},
    "colab_type": "code",
    "id": "U5XWzDw4-Fhu"
   },
   "outputs": [],
   "source": [
    "tweets_sample = (\"moved my seat with no notice. Better seat is cabin select not behind the row I selected👎 #DISAPPOINTED\",\n",
    "                 \"moved my seat with no notice. Better seat is cabin select not behind the row I selected👎 # DISAPPOINTED\", \n",
    "                 \"why can't we book seats on your flights when we buy them or even during check in? Creates so much anxiety! #frustrated\",\n",
    "                 \"why can't we book seats on your flights when we buy them or even during check in? Creates so much anxiety! # frustrated\",\n",
    "                 \"i need to change my flight thats scheduled in 9 hours and 120 min wait time on phone. Im calling intern. Help!!\") \n",
    "print(sentiment_analysis(tweets_sample))"
   ]
  },
  {
   "cell_type": "markdown",
   "metadata": {
    "colab_type": "text",
    "id": "sYZM3LlmGyw1"
   },
   "source": [
    "The columns we need to focus are:\n",
    "-  `polarity` which is the sentiment analysis using Textblob.\n",
    "-  `compound` which is the sentiment analysis using Vader.\n",
    "\n",
    "The lecturer will have noticed that when we have a *hastag* both methods do not take into account the word - i.e. *disappointed* and *frustrated*\n",
    "\n",
    "This are one of the multiple problems that we want to solve. For that, in the next section we will try to apply the **N-GRAMS** approach. To do that, we need, first of all to tokenize the whole bunch of tweets.\n",
    "\n",
    "---\n",
    "TO DO: \n",
    "- Split hastags, specially the # with the word\n",
    "- Intesify words: joke, help, wait, delayed, luggage, suitcase, turbulence"
   ]
  },
  {
   "cell_type": "markdown",
   "metadata": {
    "colab_type": "text",
    "id": "HyTFjUVRK3KV"
   },
   "source": [
    "### 5.2) Filter tweets function\n",
    "\n",
    "The function **`filter_tweets`** allows the user to *tokenize* the tweet removing the *noise*:\n",
    "\n",
    "**Tokens removed**:\n",
    "*   Stop words\n",
    "*   Punctuation\n",
    "*   Tokens with less than 3 characters\n",
    "*   Tokens containing a non alphabet character (i.e. \"/\", \"@\", etc.)\n",
    "*   Empty tokens (not implemented)\n",
    "\n",
    "Then the trailing whitespaces are removed from the token using `strip()` and finally is converted to a lowercase word using `lower()`. If after removing the not desired tokens the `filtered_tweet` is empty, we do not include it into the `list_filtered_tweets`.\n",
    "\n",
    "**Arguments**: \n",
    "*   `list_tweets`: array containing the tweets. \n",
    "*   `number_observations`: how many observations we want to treat (it will be removed in the future but now is usefull)"
   ]
  },
  {
   "cell_type": "code",
   "execution_count": null,
   "metadata": {
    "colab": {},
    "colab_type": "code",
    "id": "AyNffvpQHipI"
   },
   "outputs": [],
   "source": [
    "def filter_tweets(list_tweets):  # TO DO: zip with account_name\n",
    "    list_filtered_tweets = []\n",
    "\n",
    "    for tweet in list_tweets[:len(list_tweets)]:\n",
    "        filtered_tweet = []\n",
    "        sentence = English()(tweet)\n",
    "\n",
    "        for word in sentence:\n",
    "            if len(word) > 2 and not word.is_stop and word.is_alpha:\n",
    "                filtered_tweet.append(word.string.strip())\n",
    "        \n",
    "        #if len(filtered_tweet) != 0:\n",
    "        list_filtered_tweets.append(filtered_tweet)\n",
    "            \n",
    "    return list_filtered_tweets"
   ]
  },
  {
   "cell_type": "markdown",
   "metadata": {
    "colab_type": "text",
    "id": "MEqarACYPeWA"
   },
   "source": [
    "Here an example where the first 200 tweets from the dataframe `tweets` are filtered.\n"
   ]
  },
  {
   "cell_type": "code",
   "execution_count": null,
   "metadata": {
    "colab": {},
    "colab_type": "code",
    "id": "52hHt6wUOHVN"
   },
   "outputs": [],
   "source": [
    "filter_tweets_sample = filter_tweets(list(tweets[\"text\"][0:200]))\n",
    "for tweet_filtered in filter_tweets_sample[0:10]:\n",
    "  print(tweet_filtered)"
   ]
  },
  {
   "cell_type": "markdown",
   "metadata": {
    "colab_type": "text",
    "id": "gE2lWrfLTLKR"
   },
   "source": [
    "Having saw that now we want to increase the accuracy of TextBlob and Vader using the N-GRAMS. The **`ngrams`** function compute `bigrams = 2-grams` and `trigrams = 3-grams`."
   ]
  },
  {
   "cell_type": "code",
   "execution_count": null,
   "metadata": {
    "colab": {},
    "colab_type": "code",
    "id": "X7OVViyQDmk1"
   },
   "outputs": [],
   "source": [
    "def ngrams(input_list):\n",
    "    #onegrams = input_list\n",
    "    bigrams = [' '.join(t) for t in list(zip(input_list, input_list[1:]))]\n",
    "    trigrams = [' '.join(t) for t in list(zip(input_list, input_list[1:], input_list[2:]))]\n",
    "    return bigrams + trigrams"
   ]
  },
  {
   "cell_type": "markdown",
   "metadata": {
    "colab_type": "text",
    "id": "7SAqTuQsXHHt"
   },
   "source": [
    "Here an example with the apos_pneg tweets. We'll see that we improve 33% from our previous rate we had before."
   ]
  },
  {
   "cell_type": "code",
   "execution_count": null,
   "metadata": {
    "colab": {},
    "colab_type": "code",
    "id": "FtX3dib0FZaO"
   },
   "outputs": [],
   "source": [
    "# Before computing the ngrams function we need to tockenized the tweet\n",
    "apos_pneg_tockenized = filter_tweets(apos_pneg)\n",
    "apos_pneg_ngrams = []\n",
    "for tokens in apos_pneg_tockenized:\n",
    "  apos_pneg_ngrams.append(ngrams(tokens))"
   ]
  },
  {
   "cell_type": "code",
   "execution_count": null,
   "metadata": {
    "colab": {},
    "colab_type": "code",
    "id": "44dqZ1D8Fwj3"
   },
   "outputs": [],
   "source": [
    "# Then we join all the ngrams tockens as 1 string format\n",
    "apos_pneg_ngrams2 = []\n",
    "for tokens in apos_pneg_ngrams:\n",
    "    apos_pneg_ngrams2.append(' '.join(tokens))\n",
    "\n",
    "for tweet in apos_pneg_ngrams2[0:10]:\n",
    "  print(tweet)"
   ]
  },
  {
   "cell_type": "code",
   "execution_count": null,
   "metadata": {
    "colab": {},
    "colab_type": "code",
    "id": "2_7uXuguQhMh"
   },
   "outputs": [],
   "source": [
    "# Finally we compute the sentiment_analysis using the string created before\n",
    "table = sentiment_analysis(apos_pneg_ngrams2)\n",
    "ratio_improved = sum(table[\"compound\"] > 0)/len(table[\"compound\"])\n",
    "print(\"Thanks to N_GRAMS we reclassifies {:.2%}\".format(ratio_improved) + \" of the total apos_pneg_ngrams well\")"
   ]
  },
  {
   "cell_type": "markdown",
   "metadata": {
    "colab_type": "text",
    "id": "cAkWxFfUXVzw"
   },
   "source": [
    "Now with the whole data set (by the moment, we take just some thousands of tweets..)"
   ]
  },
  {
   "cell_type": "code",
   "execution_count": null,
   "metadata": {
    "colab": {},
    "colab_type": "code",
    "id": "pJkO9BHcVb6b"
   },
   "outputs": [],
   "source": [
    "# For the WHOLE tweets\n",
    "# 1) Tokenize the tweets\n",
    "tweets_tockenized = filter_tweets(tweets[\"text\"][0:4000])\n",
    "\n",
    "# 2) Computing the ngrams function\n",
    "tweets_tockenized2 = []\n",
    "for tokens in tweets_tockenized:\n",
    "  tweets_tockenized2.append(ngrams(tokens))\n",
    "\n",
    "# 3) Join the ngrams tokens\n",
    "tweets_tockenized3 = []\n",
    "for tokens in tweets_tockenized2:\n",
    "    tweets_tockenized3.append(' '.join(tokens))\n",
    "\n",
    "# 4) Computing the sentiment analysis of the joined ngrams tokens\n",
    "sentiment_table2 = sentiment_analysis(tweets_tockenized3)\n",
    "tweets[\"sentiment_ngrams_Vader\"] = sentiment_table2[\"compound\"]\n",
    "tweets[\"sentiment_ngrams_Textblob\"] = sentiment_table2[\"polarity\"]\n",
    "\n",
    "\n",
    "ratio_improved = sum(sentiment_table2[\"compound\"] > 0)/len(sentiment_table2[\"compound\"])\n",
    "print(\"Thanks to N_GRAMS we classify {:.2%}\".format(ratio_improved) + \" of the total tweets well\")\n"
   ]
  },
  {
   "cell_type": "code",
   "execution_count": null,
   "metadata": {
    "colab": {},
    "colab_type": "code",
    "id": "o1SlRCnKVsD7"
   },
   "outputs": [],
   "source": [
    "X = tweets[\"polarity_Textblob\"]\n",
    "y = tweets[\"polarity_Vader\"]\n",
    "\n",
    "colors = pltcolor(tweets[\"airline_sentiment\"])\n",
    "\n",
    "plt.figure(figsize=(15,10))\n",
    "plt.scatter(X[0:4000], y[0:4000], c = colors[0:4000], edgecolors='k', s = 30)\n",
    "plt.ylabel('VADER Polarity')\n",
    "plt.xlabel('TEXTBLOB Polarity')"
   ]
  },
  {
   "cell_type": "markdown",
   "metadata": {
    "colab_type": "text",
    "id": "bcTKf30VQzrY"
   },
   "source": [
    "### 5.3) Search group function\n",
    "\n",
    "The function **`search_group_classes`** allows the user to classify tweets by passangers classes:\n",
    "\n",
    "**Context**:\n",
    "From a business perspective, the company needs to prioritize which customer needs to be replied to firstly. The idea, is to create several classes and then sort based on priority. In the ideal world, this priority will be based on ticket price but this information cannot be inferred.\n",
    "\n",
    "- The first approach is to classify into 2 classes: **business class** and **not business class** only using the tweet text (i.e.: type of words in the tweet, orthography, etc.)\n",
    "\n",
    "- The second approach is to figure out what is the scope of the tweet. For instance, if the account is verified, or the complaint is made by a very popular account (with a lot of followers) the complaint needs to be dealt quickly. *(NOT IMPLEMENTED)*\n",
    "\n",
    "**Arguments**: \n",
    "*   `airline_sentiment`: determines the sentiment analysis we want to work with. Possible values: `('positive', 'negative', 'neutral')` \n",
    "*   `list_words`: words that define the group class, i.e.`(\"business class|first class|priority|preference\")`"
   ]
  },
  {
   "cell_type": "code",
   "execution_count": null,
   "metadata": {
    "colab": {},
    "colab_type": "code",
    "id": "zsovQdANHnPY"
   },
   "outputs": [],
   "source": [
    "def search_group_classes(airline_sentiment, list_words):\n",
    "    df_neg = (tweets[tweets['airline_sentiment'] == airline_sentiment])\n",
    "    list_tweets = df_neg[\"text\"]\n",
    "\n",
    "    output = []\n",
    "    for tweet in list_tweets:\n",
    "        if re.findall(list_words, tweet):\n",
    "            output.append(tweet)\n",
    "\n",
    "    return output"
   ]
  },
  {
   "cell_type": "markdown",
   "metadata": {
    "colab_type": "text",
    "id": "MEYoNaHqTZDy"
   },
   "source": [
    "Here we want to gathered the **business class tweets** from the dataset `tweets`."
   ]
  },
  {
   "cell_type": "code",
   "execution_count": null,
   "metadata": {
    "colab": {},
    "colab_type": "code",
    "id": "pt-Ra9dKTFQW"
   },
   "outputs": [],
   "source": [
    "business_class = (\"business class|first class|priority|preference\") # TO DO: store it in the tweets dataframe\n",
    "business_class_tweets = search_group_classes(\"negative\", business_class)\n",
    "for bc_tweet in business_class_tweets[0:10]:\n",
    "    print(bc_tweet)"
   ]
  },
  {
   "cell_type": "markdown",
   "metadata": {
    "colab_type": "text",
    "id": "iCPMGSiqyPw_"
   },
   "source": [
    "## VADER\n",
    "**V**alence **A**ware **D**ictionary and s**E**ntiment **R**easoner is another popular rule-based library for sentiment analysis. Like TextBlob, it uses a sentiment lexicon that contains intensity measures for each word based on human-annotated labels. A key difference however, is that VADER was designed with a **focus on social media texts**. This means that it puts a lot of emphasis on rules that capture the essence of text typically seen on social media — for example, **short sentences with emojis**, **repetitive vocabulary** and copious use of **punctuation** (such as exclamation marks). Below are some examples of the sentiment intensity scores output by VADER."
   ]
  },
  {
   "cell_type": "markdown",
   "metadata": {
    "colab_type": "text",
    "id": "slAtFcB_Hv__"
   },
   "source": [
    "## Understanding the polarity scores with TextBlob and Vader"
   ]
  },
  {
   "cell_type": "code",
   "execution_count": null,
   "metadata": {
    "colab": {},
    "colab_type": "code",
    "id": "nSDbVwI7vL5b"
   },
   "outputs": [],
   "source": [
    "vader = SentimentIntensityAnalyzer()\n",
    "print(vader.polarity_scores(\"This was the best idea I've had in a long time.\"))\n",
    "print(vader.polarity_scores(\"best idea time.\"))\n",
    "print(vader.polarity_scores(\"This was the BEST idea I've had in a long time.\"))\n",
    "print(vader.polarity_scores(\"This was the BEST idea I've had in a long time!\"))\n",
    "print(vader.polarity_scores(\"This was the BEST idea I've had in a long time!!!\"))\n",
    "print(vader.polarity_scores(\"This was the BEST, BEST idea I've had in a long time!!! :D :D\"))\n",
    "print(vader.polarity_scores(\"This was the WORST, WORST idea I've had in a long time!!! :( :(\"))"
   ]
  },
  {
   "cell_type": "code",
   "execution_count": null,
   "metadata": {
    "colab": {},
    "colab_type": "code",
    "id": "z81Av1m71zLo"
   },
   "outputs": [],
   "source": [
    "print(TextBlob(\"This was the best idea I've had in a long time.\").sentiment)\n",
    "print(TextBlob(\"best idea time.\").sentiment)\n",
    "print(TextBlob(\"This was the BEST idea I've had in a long time.\").sentiment)\n",
    "print(TextBlob(\"This was the BEST idea I've had in a long time!\").sentiment)\n",
    "print(TextBlob(\"This was the BEST idea I've had in a long time!!!\").sentiment)\n",
    "print(TextBlob(\"This was the BEST, BEST idea I've had in a long time!!! :D :D\").sentiment)\n",
    "print(TextBlob(\"This was the WORST, WORST idea I've had in a long time!!! :( :(\").sentiment)\n"
   ]
  },
  {
   "cell_type": "markdown",
   "metadata": {
    "colab_type": "text",
    "id": "I8Ja7MShY9zR"
   },
   "source": [
    "*TO DO: implement N-gramms*"
   ]
  },
  {
   "cell_type": "markdown",
   "metadata": {
    "colab_type": "text",
    "id": "aFW2QOsT0_mv"
   },
   "source": [
    "FOREST"
   ]
  },
  {
   "cell_type": "markdown",
   "metadata": {},
   "source": [
    "## Tweet translation\n",
    "We can imagine that airlines might have different customer support teams spead in different localizations. We can detect the language of the tweets posted and hence transfer them to the correct team. Otherwise, translating the tweets will allow any support team to understand the tweets. Also, if the tweets were in different languages it can make sense to translate them into English or any desired language.\n"
   ]
  },
  {
   "cell_type": "code",
   "execution_count": null,
   "metadata": {},
   "outputs": [],
   "source": [
    "#Detect languange\n",
    "list_language = []\n",
    "tweet_for_language = tweets[\"text\"]\n",
    "for element in tweet_for_language[:10]:\n",
    "    which_language = TextBlob(element)\n",
    "    which_language.detect_language()#Detect the blob's language using the Google Translate API.\n",
    "    list_language.append(which_language.detect_language())\n",
    "print(list_language)"
   ]
  },
  {
   "cell_type": "code",
   "execution_count": null,
   "metadata": {},
   "outputs": [],
   "source": [
    "#Translation\n",
    "list_translations = []\n",
    "for element in tweet_for_language[:10]:\n",
    "    text_to_be_translated = TextBlob(element)\n",
    "    text_to_be_translated.translate(to ='es')#Translates the blob to another language using the Google Translate API.\n",
    "    list_translations.append(str(text_to_be_translated.translate(to ='es')))\n",
    "print(list_translations)"
   ]
  },
  {
   "cell_type": "code",
   "execution_count": null,
   "metadata": {},
   "outputs": [],
   "source": [
    "#Adding language and translation to tweets table\n",
    "table_10_lines = tweets[:10]\n",
    "table_10_lines[\"language_tweets\"] = list_language\n",
    "table_10_lines[\"translation_tweets\"] = list_translations\n",
    "print(table_10_lines)\n"
   ]
  },
  {
   "cell_type": "code",
   "execution_count": null,
   "metadata": {},
   "outputs": [],
   "source": []
  }
 ],
 "metadata": {
  "colab": {
   "collapsed_sections": [],
   "name": "DM_Project.ipynb",
   "provenance": []
  },
  "kernelspec": {
   "display_name": "Python 3",
   "language": "python",
   "name": "python3"
  },
  "language_info": {
   "codemirror_mode": {
    "name": "ipython",
    "version": 3
   },
   "file_extension": ".py",
   "mimetype": "text/x-python",
   "name": "python",
   "nbconvert_exporter": "python",
   "pygments_lexer": "ipython3",
   "version": "3.7.3"
  }
 },
 "nbformat": 4,
 "nbformat_minor": 1
}
